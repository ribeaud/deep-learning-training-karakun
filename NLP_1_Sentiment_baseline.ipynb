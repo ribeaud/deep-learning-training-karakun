{
 "cells": [
  {
   "cell_type": "markdown",
   "metadata": {},
   "source": [
    "## Introduction to NLP   at Karakun             Part 1     "
   ]
  },
  {
   "cell_type": "code",
   "execution_count": 1,
   "metadata": {},
   "outputs": [],
   "source": [
    "import nltk              \n",
    "import random\n",
    "random.seed(0)"
   ]
  },
  {
   "cell_type": "markdown",
   "metadata": {
    "collapsed": true
   },
   "source": [
    "# Sentiment analysis with word list and naïve Bayes\n",
    "Gives a baseline for more advanced methods."
   ]
  },
  {
   "cell_type": "code",
   "execution_count": 2,
   "metadata": {},
   "outputs": [],
   "source": [
    "train_pos_reviews=[]\n",
    "train_neg_reviews=[]\n",
    "test_pos_reviews=[]\n",
    "test_neg_reviews=[]\n",
    "\n",
    "with open('./Sentiment-Analysis-Data/imdb/train-pos.txt','r') as f:\n",
    "    for line in f:\n",
    "        train_pos_reviews.append((line,'pos'))\n",
    "f.close()\n",
    "\n",
    "with open('./Sentiment-Analysis-Data/imdb/train-neg.txt','r') as f:\n",
    "    for line in f:\n",
    "        train_neg_reviews.append((line,'neg'))\n",
    "f.close()\n",
    "\n",
    "with open('./Sentiment-Analysis-Data/imdb/test-pos.txt','r') as f:\n",
    "    for line in f:\n",
    "        test_pos_reviews.append((line,'pos'))\n",
    "f.close()\n",
    "\n",
    "with open('./Sentiment-Analysis-Data/imdb/test-neg.txt','r') as f:\n",
    "    for line in f:\n",
    "        test_pos_reviews.append((line,'neg'))\n",
    "f.close()\n",
    "\n",
    "train_reviews = []\n",
    "test_reviews = []\n",
    "\n",
    "for (words, sentiment) in train_pos_reviews + train_neg_reviews:\n",
    "    words_filtered = [e.lower() for e in words.split() if len(e) >= 2]\n",
    "    train_reviews.append((words_filtered, sentiment))\n",
    "\n",
    "for (words, sentiment) in test_pos_reviews + test_neg_reviews:\n",
    "    words_filtered = [e.lower() for e in words.split() if len(e) >= 2]\n",
    "    test_reviews.append((words_filtered, sentiment))"
   ]
  },
  {
   "cell_type": "code",
   "execution_count": 3,
   "metadata": {},
   "outputs": [
    {
     "name": "stdout",
     "output_type": "stream",
     "text": [
      "25000 25000\n"
     ]
    }
   ],
   "source": [
    "print( len(train_reviews) , len(test_reviews))"
   ]
  },
  {
   "cell_type": "code",
   "execution_count": 4,
   "metadata": {},
   "outputs": [
    {
     "name": "stdout",
     "output_type": "stream",
     "text": [
      "['this', 'film', 'has', 'renewed', 'my', 'interest', 'in', 'french', 'cinema', 'the', 'story', 'is', 'enchanting', 'the', 'acting', 'is', 'flawless', 'and', 'audrey', 'tautou', 'is', 'absolutely', 'beautiful', 'imagine', 'that', 'we', 'will', 'be', 'seeing', 'lot', 'more', 'of', 'her', 'in', 'the', 'states', 'after', 'her', 'upcoming', 'role', 'in', 'amelie'] \n",
      "\n",
      " pos\n"
     ]
    }
   ],
   "source": [
    "print(train_reviews[230][0][:60] , '\\n\\n' , train_reviews[230][1])"
   ]
  },
  {
   "cell_type": "code",
   "execution_count": 5,
   "metadata": {},
   "outputs": [
    {
     "data": {
      "text/plain": [
       "'this film has renewed my interest in french cinema the story is enchanting the acting is flawless and audrey tautou is absolutely beautiful imagine that we will be seeing lot more of her in the states after her upcoming role in amelie'"
      ]
     },
     "execution_count": 5,
     "metadata": {},
     "output_type": "execute_result"
    }
   ],
   "source": [
    "' '.join(word for word in train_reviews[230][0] )"
   ]
  },
  {
   "cell_type": "code",
   "execution_count": 6,
   "metadata": {},
   "outputs": [],
   "source": [
    "random.shuffle(train_reviews)\n",
    "random.shuffle(test_reviews)"
   ]
  },
  {
   "cell_type": "code",
   "execution_count": 7,
   "metadata": {},
   "outputs": [
    {
     "name": "stdout",
     "output_type": "stream",
     "text": [
      "['judy', 'davis', 'shows', 'us', 'here', 'why', 'she', 'is', 'one', 'of', 'australia', 'most', 'respected', 'and', 'loved', 'actors', 'her', 'portrayal', 'of', 'lonely', 'directionless', 'nomad', 'is', 'first', 'rate', 'teenaged', 'claudia', 'karvan', 'also', 'gives', 'us', 'glimpse', 'of', 'what', 'would', 'make', 'her', 'one', 'of', 'this', 'country', 'most', 'popular', 'actors', 'in', 'years', 'to', 'come', 'with', 'future', 'roles', 'in', 'the', 'big', 'steal', 'the', 'heartbreak', 'kid', 'dating', 'the'] \n",
      "\n",
      " pos\n"
     ]
    }
   ],
   "source": [
    "print(train_reviews[230][0][:60] , '\\n\\n' , train_reviews[230][1])"
   ]
  },
  {
   "cell_type": "code",
   "execution_count": 7,
   "metadata": {},
   "outputs": [
    {
     "name": "stdout",
     "output_type": "stream",
     "text": [
      "neg\n",
      "pos\n",
      "pos\n",
      "neg\n",
      "pos\n",
      "pos\n",
      "neg\n",
      "neg\n",
      "pos\n",
      "pos\n"
     ]
    }
   ],
   "source": [
    "for i in range(10):\n",
    "    print(test_reviews[i][1])"
   ]
  },
  {
   "cell_type": "code",
   "execution_count": 8,
   "metadata": {},
   "outputs": [],
   "source": [
    "N_test= int(len(test_reviews)/2)"
   ]
  },
  {
   "cell_type": "code",
   "execution_count": 9,
   "metadata": {},
   "outputs": [
    {
     "name": "stdout",
     "output_type": "stream",
     "text": [
      "25000 12500 12500\n"
     ]
    }
   ],
   "source": [
    "eval_reviews = test_reviews[:N_test]\n",
    "test_reviews = test_reviews[N_test:]\n",
    "print(len(train_reviews),len(test_reviews),len(eval_reviews))"
   ]
  },
  {
   "cell_type": "code",
   "execution_count": 10,
   "metadata": {},
   "outputs": [],
   "source": [
    "all_words = []\n",
    "for (words, sentiment) in train_reviews+eval_reviews+test_reviews:\n",
    "    all_words.extend(words)\n",
    "    \n",
    "wordlist = nltk.FreqDist(all_words)"
   ]
  },
  {
   "cell_type": "code",
   "execution_count": 11,
   "metadata": {},
   "outputs": [
    {
     "name": "stdout",
     "output_type": "stream",
     "text": [
      "all words in the reviews:  10977368\n",
      "size of dictionary:  100641\n"
     ]
    }
   ],
   "source": [
    "print('all words in the reviews: ',len(all_words) )\n",
    "print('size of dictionary: ',len(wordlist) )"
   ]
  },
  {
   "cell_type": "code",
   "execution_count": 12,
   "metadata": {},
   "outputs": [
    {
     "data": {
      "image/png": "[encoded data removed]",
      "text/plain": [
       "<Figure size 864x360 with 1 Axes>"
      ]
     },
     "metadata": {
      "needs_background": "light"
     },
     "output_type": "display_data"
    }
   ],
   "source": [
    "import matplotlib.pyplot as plt\n",
    "%matplotlib inline\n",
    "\n",
    "# get frequencies and sort\n",
    "frequencies = []\n",
    "for token,freq in wordlist.items():\n",
    "    frequencies.append(freq)\n",
    "\n",
    "#plot results\n",
    "plt.figure(figsize=(12,5))\n",
    "plt.plot(sorted(frequencies, reverse=True))\n",
    "plt.title(\"Zipf's law\")\n",
    "plt.xlabel('Rank')\n",
    "plt.xscale('log')\n",
    "plt.ylabel('Count')\n",
    "plt.yscale('log')\n",
    "plt.ylim([0.5,1e6])\n",
    "plt.show()"
   ]
  },
  {
   "cell_type": "code",
   "execution_count": 13,
   "metadata": {},
   "outputs": [
    {
     "data": {
      "text/plain": [
       "[('the', 667875),\n",
       " ('and', 324436),\n",
       " ('of', 289410),\n",
       " ('to', 268122),\n",
       " ('is', 211079),\n",
       " ('it', 190713),\n",
       " ('in', 186780),\n",
       " ('this', 151001),\n",
       " ('that', 143844),\n",
       " ('was', 95608)]"
      ]
     },
     "execution_count": 13,
     "metadata": {},
     "output_type": "execute_result"
    }
   ],
   "source": [
    "wordlist.most_common(10)        "
   ]
  },
  {
   "cell_type": "code",
   "execution_count": 14,
   "metadata": {},
   "outputs": [
    {
     "name": "stdout",
     "output_type": "stream",
     "text": [
      "9961 4759 1550 8190 3009\n",
      "5795 58386 211079 53383\n"
     ]
    }
   ],
   "source": [
    "print( wordlist['go'], wordlist['goes'], wordlist['gone'], wordlist['going'], wordlist['went'])\n",
    "print( wordlist['am'], wordlist['are'], wordlist['is'], wordlist['be'])"
   ]
  },
  {
   "cell_type": "code",
   "execution_count": 15,
   "metadata": {},
   "outputs": [],
   "source": [
    "from nltk.corpus import stopwords\n",
    "stopwords_E = stopwords.words('english')"
   ]
  },
  {
   "cell_type": "code",
   "execution_count": 16,
   "metadata": {},
   "outputs": [
    {
     "data": {
      "text/plain": [
       "667875"
      ]
     },
     "execution_count": 16,
     "metadata": {},
     "output_type": "execute_result"
    }
   ],
   "source": [
    "wordlist['the']"
   ]
  },
  {
   "cell_type": "code",
   "execution_count": 17,
   "metadata": {},
   "outputs": [
    {
     "data": {
      "text/plain": [
       "0"
      ]
     },
     "execution_count": 17,
     "metadata": {},
     "output_type": "execute_result"
    }
   ],
   "source": [
    "wordlist_stopped = nltk.FreqDist([ w for w in all_words if w.isalpha() and w not in stopwords_E ])\n",
    "wordlist_stopped['the']"
   ]
  },
  {
   "cell_type": "code",
   "execution_count": 18,
   "metadata": {},
   "outputs": [
    {
     "data": {
      "image/png": "[encoded data removed]",
      "text/plain": [
       "<Figure size 864x360 with 1 Axes>"
      ]
     },
     "metadata": {
      "needs_background": "light"
     },
     "output_type": "display_data"
    }
   ],
   "source": [
    "import matplotlib.pyplot as plt\n",
    "%matplotlib inline\n",
    "\n",
    "# get frequencies and sort\n",
    "frequencies_2 = []\n",
    "for token,freq in wordlist_stopped.items():\n",
    "    frequencies_2.append(freq)\n",
    "\n",
    "#plot results\n",
    "plt.figure(figsize=(12,5))\n",
    "plt.plot(sorted(frequencies, reverse=True))\n",
    "plt.plot(sorted(frequencies_2, reverse=True))\n",
    "plt.title(\"Zipf's law:  with and without stopwords\")\n",
    "plt.xlabel('Rank')\n",
    "plt.xscale('log')\n",
    "plt.ylabel('Count')\n",
    "plt.yscale('log')\n",
    "plt.ylim([0.5,1e6])\n",
    "plt.show()"
   ]
  },
  {
   "cell_type": "markdown",
   "metadata": {},
   "source": [
    "###  Simple word list based sentiments\n",
    "Using AFINN-111 from Finn Årup Nielsen. Contains 2477 English words and phrases rated with an integer between -5 and +5.\n",
    "http://www2.imm.dtu.dk/pubdb/views/publication_details.php?id=6010"
   ]
  },
  {
   "cell_type": "code",
   "execution_count": 19,
   "metadata": {},
   "outputs": [],
   "source": [
    "from collections import defaultdict\n",
    "\n",
    "sentiment_dict = defaultdict(int)\n",
    "for line in open('./Sentiment-Analysis-Data/AFINN/AFINN-111.txt'):\n",
    "    word,sent = line.split('\\t')\n",
    "    sentiment_dict[word] = int(sent)"
   ]
  },
  {
   "cell_type": "code",
   "execution_count": 20,
   "metadata": {},
   "outputs": [
    {
     "name": "stdout",
     "output_type": "stream",
     "text": [
      "2477 \n",
      "\n",
      "[('abandon', -2), ('abandoned', -2), ('abandons', -2), ('abducted', -2), ('abduction', -2), ('abductions', -2), ('abhor', -3), ('abhorred', -3), ('abhorrent', -3), ('abhors', -3), ('abilities', 2), ('ability', 2), ('aboard', 1), ('absentee', -1), ('absentees', -1), ('absolve', 2), ('absolved', 2), ('absolves', 2), ('absolving', 2), ('absorbed', 1)] \n",
      "\n",
      "'awesome' has sentiment 4   /   'horrible' has sentiment -3 \n",
      "\n",
      "[('breathtaking', 5), ('hurrah', 5), ('outstanding', 5), ('superb', 5), ('thrilled', 5)]\n"
     ]
    }
   ],
   "source": [
    "print(len(sentiment_dict.items()) ,'\\n')\n",
    "print(list(sentiment_dict.items())[:20] , '\\n')\n",
    "print(\"'awesome' has sentiment\",sentiment_dict['awesome'],\"  /   'horrible' has sentiment\",sentiment_dict['horrible'] , '\\n')\n",
    "print([(word,sent) for (word,sent) in sentiment_dict.items() if sent ==5 ] )"
   ]
  },
  {
   "cell_type": "code",
   "execution_count": 21,
   "metadata": {},
   "outputs": [
    {
     "name": "stdout",
     "output_type": "stream",
     "text": [
      "['abandon', 'abandoned', 'abandons', 'abducted', 'abduction', 'abductions', 'abhor', 'abhorred', 'abhorrent', 'abhors', 'abilities', 'ability', 'aboard', 'absentee', 'absentees', 'absolve', 'absolved', 'absolves', 'absolving', 'absorbed', 'abuse', 'abused', 'abuses', 'abusive', 'accept', 'accepted', 'accepting', 'accepts', 'accident', 'accidental', 'accidentally', 'accidents', 'accomplish', 'accomplished', 'accomplishes', 'accusation', 'accusations', 'accuse', 'accused', 'accuses', 'accusing', 'ache', 'achievable', 'aching', 'acquit', 'acquits', 'acquitted', 'acquitting', 'acrimonious', 'active', 'adequate', 'admire', 'admired', 'admires', 'admiring', 'admit', 'admits', 'admitted', 'admonish', 'admonished', 'adopt', 'adopts', 'adorable', 'adore', 'adored', 'adores', 'advanced', 'advantage', 'advantages', 'adventure', 'adventures', 'adventurous', 'affected', 'affection', 'affectionate', 'afflicted', 'affronted', 'afraid', 'aggravate', 'aggravated', 'aggravates', 'aggravating', 'aggression', 'aggressions', 'aggressive', 'aghast', 'agog', 'agonise', 'agonised', 'agonises', 'agonising', 'agonize', 'agonized', 'agonizes', 'agonizing', 'agree', 'agreeable', 'agreed', 'agreement', 'agrees']\n"
     ]
    }
   ],
   "source": [
    "sort_words= [ w for (w,_) in sentiment_dict.items() ]\n",
    "print(sorted(sort_words[:100]))"
   ]
  },
  {
   "cell_type": "code",
   "execution_count": 22,
   "metadata": {},
   "outputs": [
    {
     "name": "stdout",
     "output_type": "stream",
     "text": [
      "    awesome :   4\n",
      "      awful :  -3\n",
      "        bad :  -3\n",
      "      badly :  -3\n",
      "     better :   2\n",
      "  excellent :   3\n",
      "       good :   3\n",
      "      great :   3\n",
      "   horrible :  -3\n",
      "       like :   2\n",
      "        lol :   3\n",
      "       very :   0\n",
      "   terrible :  -3\n",
      "      woods :   0\n",
      "        wow :   4\n"
     ]
    }
   ],
   "source": [
    "wordlist = ['awesome','awful','bad','badly','better','excellent','good','great','horrible','like','lol','very','terrible','woods','wow']\n",
    "for w in wordlist:\n",
    "    print(\" %10s : %3d\" % (w,sentiment_dict[w]))"
   ]
  },
  {
   "cell_type": "code",
   "execution_count": 23,
   "metadata": {},
   "outputs": [],
   "source": [
    "def compare(threshold):\n",
    "    gold =[]\n",
    "    predicted = []\n",
    "    for i in range(len(test_reviews)):\n",
    "        (sentence, score) = test_reviews[i]\n",
    "        gold.append(score)\n",
    "        sentiment = sum(sentiment_dict[w] for w in sentence)\n",
    "        if sentiment > threshold:\n",
    "            predicted.append('pos')\n",
    "        else:\n",
    "            predicted.append('neg')\n",
    "        \n",
    "    cm = nltk.ConfusionMatrix(gold, predicted)\n",
    "    print(\"accuracy with AFINN rated words: %5.3f %%\" % ((cm['pos','pos']+cm['neg','neg'])/\n",
    "                            (1.0*cm['pos','pos']+cm['neg','neg']+cm['pos','neg']+cm['neg','pos'])*100) )\n",
    "    print(cm.pretty_format(sort_by_count=True, show_percents=True) )"
   ]
  },
  {
   "cell_type": "code",
   "execution_count": 24,
   "metadata": {},
   "outputs": [
    {
     "name": "stdout",
     "output_type": "stream",
     "text": [
      "accuracy with AFINN rated words: 71.744 %\n",
      "    |      p      n |\n",
      "    |      o      e |\n",
      "    |      s      g |\n",
      "----+---------------+\n",
      "pos | <33.8%> 16.3% |\n",
      "neg |  12.0% <38.0%>|\n",
      "----+---------------+\n",
      "(row = reference; col = test)\n",
      "\n"
     ]
    }
   ],
   "source": [
    "compare(6)   # 6.0   -->  71.7 %"
   ]
  },
  {
   "cell_type": "code",
   "execution_count": 25,
   "metadata": {},
   "outputs": [],
   "source": [
    "test_text = 'This product is great, we love it. But stupid price, horrendous. At most affordable for Christmas!' "
   ]
  },
  {
   "cell_type": "code",
   "execution_count": 26,
   "metadata": {},
   "outputs": [
    {
     "name": "stdout",
     "output_type": "stream",
     "text": [
      "      great :  3\n",
      "       love :  3\n",
      "     stupid : -2\n",
      " horrendous : -3\n",
      "\n",
      " Sentiment score : 1.0\n"
     ]
    }
   ],
   "source": [
    "from nltk.tokenize import word_tokenize, sent_tokenize\n",
    "\n",
    "test_word = word_tokenize( test_text.lower() )\n",
    "score = 0.0\n",
    "for i in range(len(test_word)):\n",
    "    if sentiment_dict[test_word[i]] != 0:\n",
    "        score += sentiment_dict[test_word[i]]\n",
    "        print(\" %10s : %2d\" % (test_word[i],sentiment_dict[test_word[i]]) )\n",
    "\n",
    "print('\\n' ,'Sentiment score :', score)\n",
    "\n"
   ]
  },
  {
   "cell_type": "code",
   "execution_count": 27,
   "metadata": {},
   "outputs": [
    {
     "name": "stdout",
     "output_type": "stream",
     "text": [
      " this product is great, we love it.   :   6\n",
      " but stupid price, horrendous.        :  -5\n",
      " at most affordable for christmas!    :   0\n"
     ]
    }
   ],
   "source": [
    "test_sents = sent_tokenize( test_text.lower() )\n",
    "for i in range(len(test_sents)):\n",
    "    print(\" %-36s : %3d\" % (test_sents[i], sum(sentiment_dict[w] for w in word_tokenize(test_sents[i])) ) )"
   ]
  },
  {
   "cell_type": "markdown",
   "metadata": {},
   "source": [
    "## Intermezzo:   WordNet sentiment scores \n",
    "NLTK-Book Chap 2 :  WordNet is a very large semantic English dictionary, with 155,287 words and 117,659 synonym sets.\n",
    "\n",
    "WordNet contains 110K nouns, 11K verbs, 22K adjectives, 4.5K adverbs.\n",
    "\n",
    "Beside sentiment scores, WordNet has a rich structure with synonyms, antonyms, hypernyms, hyponyms, holonyms and meronyms."
   ]
  },
  {
   "cell_type": "code",
   "execution_count": 28,
   "metadata": {},
   "outputs": [],
   "source": [
    "from nltk.corpus import sentiwordnet as swn      #   sentiment scores for 145k WordNet synonym sets\n",
    "from nltk.corpus import wordnet as wn"
   ]
  },
  {
   "cell_type": "raw",
   "metadata": {},
   "source": [
    "Symmetric Relations:\n",
    "Synonyms: autumn/fall                      (two lemmas with the same sense)\n",
    "Antonyms: cold/hot, large/small            (two lemmas with the opposite sense)\n",
    "\n",
    "Hierarchical relations:\n",
    "Hypernyms:  feeling/emotion                (the hypernym is more general than the hyponym)\n",
    "Hyponyms:   emotion/feeling                (the hyponym is more specific than the hypernym)\n",
    "\n",
    "Holonyms: forest/tree                      (the holonym has the meronym as a part)\n",
    "Meronyms: tree/forest                      (the meronym is a part or a member the holonym)"
   ]
  },
  {
   "cell_type": "code",
   "execution_count": 29,
   "metadata": {},
   "outputs": [
    {
     "name": "stdout",
     "output_type": "stream",
     "text": [
      "[Synset('bass.n.01'), Synset('bass.n.02'), Synset('bass.n.03'), Synset('sea_bass.n.01'), Synset('freshwater_bass.n.01'), Synset('bass.n.06'), Synset('bass.n.07'), Synset('bass.n.08'), Synset('bass.s.01')]\n"
     ]
    }
   ],
   "source": [
    "print(wn.synsets('bass') )"
   ]
  },
  {
   "cell_type": "code",
   "execution_count": 30,
   "metadata": {},
   "outputs": [
    {
     "name": "stdout",
     "output_type": "stream",
     "text": [
      "the lowest part of the musical range\n",
      "the lowest part in polyphonic music\n",
      "an adult male singer with the lowest voice\n",
      "the lean flesh of a saltwater fish of the family Serranidae\n",
      "any of various North American freshwater fish with lean flesh (especially of the genus Micropterus)\n",
      "the lowest adult male singing voice\n",
      "the member with the lowest range of a family of musical instruments\n",
      "nontechnical name for any of numerous edible marine and freshwater spiny-finned fishes\n",
      "having or denoting a low vocal or instrumental range\n"
     ]
    }
   ],
   "source": [
    "print(wn.synset('bass.n.01').definition() )\n",
    "print(wn.synset('bass.n.02').definition() )\n",
    "print(wn.synset('bass.n.03').definition() )\n",
    "print(wn.synset('sea_bass.n.01').definition() )\n",
    "print(wn.synset('freshwater_bass.n.01').definition() )\n",
    "print(wn.synset('bass.n.06').definition() )\n",
    "print(wn.synset('bass.n.07').definition() )\n",
    "print(wn.synset('bass.n.08').definition() )\n",
    "print(wn.synset('bass.s.01').definition() )"
   ]
  },
  {
   "cell_type": "code",
   "execution_count": 31,
   "metadata": {},
   "outputs": [
    {
     "name": "stdout",
     "output_type": "stream",
     "text": [
      "<bass.s.01: PosScore=0.0 NegScore=0.25>\n"
     ]
    }
   ],
   "source": [
    "print(swn.senti_synset('bass.s.01') ) # senti-score"
   ]
  },
  {
   "cell_type": "code",
   "execution_count": 32,
   "metadata": {},
   "outputs": [],
   "source": [
    "def WordNet_Distance(A,B):\n",
    "    start = wn.synsets(A)[0]\n",
    "    end = wn.synsets(B)[0]\n",
    "    via = start.lowest_common_hypernyms(end)[0]\n",
    "    start = start.name() ;end = end.name();via = via.name()\n",
    "    step_up = wn.synset(start).min_depth() - wn.synset(via).min_depth()\n",
    "    step_down = wn.synset(end).min_depth() - wn.synset(via).min_depth()\n",
    "    print(A+' and '+B+' have an ontological distance: ',step_up+step_down), print() \n",
    "    for w in range(step_up):\n",
    "        entity = wn.synset(start).hypernyms()\n",
    "        entity = entity[0].name()\n",
    "        depth  = wn.synset(entity).min_depth()\n",
    "        print('{0:27} has hypernym    '.format(start), '{0:27} '.format(entity), 'with depth: ' ,depth)\n",
    "        start = entity\n",
    "    \n",
    "    print()\n",
    "    \n",
    "    string = ['']*step_down\n",
    "    for w in range(step_down):\n",
    "        entity = wn.synset(end).hypernyms()\n",
    "        entity = entity[0].name()\n",
    "        depth  = wn.synset(entity).min_depth()\n",
    "        string[w] = ['{0:27}'.format(entity)+' has hyponym      ''{0:27}'.format(end)+'  with depth   '+repr(depth)]\n",
    "        end = entity\n",
    "        \n",
    "    for w in range(step_down):\n",
    "        print(string[step_down-w-1][0] )"
   ]
  },
  {
   "cell_type": "code",
   "execution_count": 33,
   "metadata": {},
   "outputs": [
    {
     "name": "stdout",
     "output_type": "stream",
     "text": [
      "love and like have an ontological distance:  13\n",
      "\n",
      "love.n.01                   has hypernym     emotion.n.01                 with depth:  5\n",
      "emotion.n.01                has hypernym     feeling.n.01                 with depth:  4\n",
      "feeling.n.01                has hypernym     state.n.02                   with depth:  3\n",
      "state.n.02                  has hypernym     attribute.n.02               with depth:  2\n",
      "attribute.n.02              has hypernym     abstraction.n.06             with depth:  1\n",
      "\n",
      "abstraction.n.06            has hyponym      psychological_feature.n.01   with depth   1\n",
      "psychological_feature.n.01  has hyponym      cognition.n.01               with depth   2\n",
      "cognition.n.01              has hyponym      content.n.05                 with depth   3\n",
      "content.n.05                has hyponym      idea.n.01                    with depth   4\n",
      "idea.n.01                   has hyponym      concept.n.01                 with depth   5\n",
      "concept.n.01                has hyponym      category.n.02                with depth   6\n",
      "category.n.02               has hyponym      kind.n.01                    with depth   7\n",
      "kind.n.01                   has hyponym      like.n.01                    with depth   8\n"
     ]
    }
   ],
   "source": [
    "WordNet_Distance('love','like')"
   ]
  },
  {
   "cell_type": "code",
   "execution_count": 34,
   "metadata": {},
   "outputs": [
    {
     "name": "stdout",
     "output_type": "stream",
     "text": [
      "a strong positive emotion of regard and affection\n",
      "['his love for his work', 'children need a lot of love']\n",
      "6\n",
      "[Synset('emotion.n.01')]\n",
      "[Synset('entity.n.01')]\n",
      "\n",
      "<love.n.01: PosScore=0.625 NegScore=0.0>\n"
     ]
    }
   ],
   "source": [
    "syn='love.n.01'    # syn='abstraction.n.06'\n",
    "print(wn.synset(syn).definition() )\n",
    "print(wn.synset(syn).examples() )\n",
    "print(wn.synset(syn).max_depth() )\n",
    "print(wn.synset(syn).hypernyms() )\n",
    "print(wn.synset(syn).root_hypernyms() )\n",
    "print()\n",
    "print(swn.senti_synset(syn) )"
   ]
  },
  {
   "cell_type": "code",
   "execution_count": 35,
   "metadata": {},
   "outputs": [
    {
     "name": "stdout",
     "output_type": "stream",
     "text": [
      "[Synset('chew.v.01'), Synset('swallow.v.01')]\n",
      "[Lemma('demand.n.02.demand')]\n",
      "\n",
      "[Synset('forest.n.01')]\n",
      "[Synset('burl.n.02'), Synset('crown.n.07'), Synset('limb.n.02'), Synset('stump.n.01'), Synset('trunk.n.01')]\n",
      "[Synset('heartwood.n.01'), Synset('sapwood.n.01')]\n",
      "\n",
      "[Synset('woody_plant.n.01')]\n",
      "[Synset('aalii.n.01'), Synset('acacia.n.01'), Synset('african_walnut.n.01'), Synset('albizzia.n.01'), Synset('alder.n.02'), Synset('angelim.n.01'), Synset('angiospermous_tree.n.01'), Synset('anise_tree.n.01'), Synset('arbor.n.01'), Synset('aroeira_blanca.n.01'), Synset('ash.n.02'), Synset('australian_nettle.n.01'), Synset('balata.n.02'), Synset('bayberry.n.01'), Synset('bean_tree.n.01'), Synset('beech.n.01'), Synset('birch.n.02'), Synset('bitterwood_tree.n.01'), Synset('black_mangrove.n.01'), Synset('blackwood.n.02'), Synset('bloodwood_tree.n.01'), Synset('bonduc.n.02'), Synset('bonsai.n.01'), Synset('bottle-tree.n.01'), Synset('brazilian_ironwood.n.01'), Synset('brazilian_pepper_tree.n.01'), Synset('brazilwood.n.02'), Synset('breakax.n.01'), Synset('burma_padauk.n.01'), Synset('button_tree.n.01'), Synset('cabbage_tree.n.03'), Synset('calaba.n.01'), Synset('calabash.n.02'), Synset('camwood.n.01'), Synset('caracolito.n.01'), Synset('carib_wood.n.01'), Synset('cassia.n.01'), Synset('casuarina.n.01'), Synset('chaulmoogra.n.01'), Synset('chestnut.n.02'), Synset('chinaberry.n.02'), Synset('chinese_parasol_tree.n.01'), Synset('christmas_bush.n.01'), Synset('cinchona.n.02'), Synset('clusia.n.01'), Synset('cockspur.n.02'), Synset('cocobolo.n.01'), Synset('coffee.n.02'), Synset('conacaste.n.01'), Synset('coral_tree.n.01'), Synset('coralwood.n.01'), Synset('cork_tree.n.01'), Synset('dagame.n.01'), Synset('devilwood.n.01'), Synset('dhak.n.01'), Synset('dhawa.n.01'), Synset('dipterocarp.n.01'), Synset('dita.n.01'), Synset('divi-divi.n.02'), Synset('ebony.n.03'), Synset('elm.n.01'), Synset('fever_tree.n.01'), Synset('fig_tree.n.01'), Synset('fringe_tree.n.01'), Synset('giant_chinkapin.n.01'), Synset('gliricidia.n.01'), Synset('granadilla_tree.n.01'), Synset('guama.n.01'), Synset('guinea_pepper.n.02'), Synset('gum_tree.n.01'), Synset('gutta-percha_tree.n.01'), Synset('gutta-percha_tree.n.02'), Synset('gymnospermous_tree.n.01'), Synset('hackberry.n.01'), Synset('hazel.n.01'), Synset('hop_hornbeam.n.01'), Synset('hornbeam.n.01'), Synset('hydnocarpus_laurifolia.n.01'), Synset('ice-cream_bean.n.01'), Synset('idesia.n.01'), Synset('incense_tree.n.01'), Synset('indian_beech.n.01'), Synset('inga.n.01'), Synset('ivory_tree.n.01'), Synset('jamaica_dogwood.n.01'), Synset('jamaican_cherry.n.01'), Synset('japanese_pagoda_tree.n.01'), Synset('kentucky_coffee_tree.n.01'), Synset('ketembilla.n.01'), Synset('keurboom.n.01'), Synset('keurboom.n.02'), Synset('kingwood.n.02'), Synset('kino.n.02'), Synset('kowhai.n.01'), Synset('lacebark.n.01'), Synset('lancewood.n.02'), Synset('lanseh_tree.n.01'), Synset('laurelwood.n.01'), Synset('lead_tree.n.01'), Synset('lemonwood.n.02'), Synset('lepidobotrys.n.01'), Synset('linden.n.02'), Synset('locust_tree.n.01'), Synset('mahogany.n.02'), Synset('manila_tamarind.n.01'), Synset('marblewood.n.02'), Synset('maria.n.02'), Synset('marmalade_tree.n.01'), Synset('mayeng.n.01'), Synset('mescal_bean.n.01'), Synset('millettia.n.01'), Synset('montezuma.n.01'), Synset('msasa.n.01'), Synset('nakedwood.n.01'), Synset('necklace_tree.n.01'), Synset('neem.n.01'), Synset('nitta_tree.n.01'), Synset('oak.n.02'), Synset('oak_chestnut.n.01'), Synset('obeche.n.02'), Synset('opepe.n.01'), Synset('padauk.n.01'), Synset('palm.n.03'), Synset('palo_verde.n.01'), Synset('pandanus.n.02'), Synset('pepper_tree.n.01'), Synset('pepper_tree.n.02'), Synset('peruvian_balsam.n.01'), Synset('plane_tree.n.01'), Synset('pollard.n.01'), Synset('poon.n.02'), Synset('prickly_ash.n.01'), Synset('prickly_ash.n.02'), Synset('princewood.n.01'), Synset('puka.n.02'), Synset('quandong.n.01'), Synset('quandong.n.03'), Synset('quira.n.02'), Synset('red_sandalwood.n.02'), Synset('red_silk-cotton_tree.n.01'), Synset('ribbon_tree.n.01'), Synset('rose_chestnut.n.01'), Synset('rosewood.n.02'), Synset('sandalwood_tree.n.01'), Synset('sapling.n.01'), Synset('satinwood.n.03'), Synset('scarlet_wisteria_tree.n.01'), Synset('scrub_beefwood.n.01'), Synset('shade_tree.n.01'), Synset('shaving-brush_tree.n.01'), Synset('shingle_tree.n.01'), Synset('silver_ash.n.01'), Synset('silver_tree.n.01'), Synset('silver_tree.n.02'), Synset('sissoo.n.01'), Synset('snag.n.02'), Synset('soapberry.n.01'), Synset('souari.n.01'), Synset('southern_beech.n.01'), Synset('spanish_tamarind.n.01'), Synset('tanbark_oak.n.01'), Synset('teak.n.02'), Synset('timber_tree.n.01'), Synset('tipu.n.01'), Synset('tolu_tree.n.01'), Synset('tree_of_knowledge.n.01'), Synset('treelet.n.01'), Synset('trifoliate_orange.n.01'), Synset('tulipwood_tree.n.01'), Synset('turreae.n.01'), Synset('wheel_tree.n.01'), Synset('white_mangrove.n.01'), Synset('white_mangrove.n.02'), Synset('wild_fig.n.02'), Synset('wild_medlar.n.01'), Synset('wild_tamarind.n.02'), Synset('willow.n.01'), Synset('winter's_bark.n.02'), Synset('yellowwood.n.02'), Synset('zebrawood.n.02')]\n"
     ]
    }
   ],
   "source": [
    "print(wn.synset('eat.v.01').entailments() )                  # see NLTK-book Chap. 2\n",
    "print(wn.lemma('supply.n.02.supply').antonyms() )\n",
    "print()\n",
    "print(wn.synset('tree.n.01').member_holonyms() )\n",
    "print(wn.synset('tree.n.01').part_meronyms() )\n",
    "print(wn.synset('tree.n.01').substance_meronyms() )\n",
    "print()\n",
    "print(wn.synset('tree.n.01').hypernyms() )\n",
    "print(wn.synset('tree.n.01').hyponyms() )"
   ]
  },
  {
   "cell_type": "markdown",
   "metadata": {},
   "source": [
    "## Sentiment classification with naïve Bayes "
   ]
  },
  {
   "cell_type": "code",
   "execution_count": 36,
   "metadata": {},
   "outputs": [
    {
     "name": "stdout",
     "output_type": "stream",
     "text": [
      "99212\n",
      "2000\n"
     ]
    }
   ],
   "source": [
    "dict_size = 2000\n",
    "word_features = [ w for (w,_) in list(wordlist_stopped.most_common())[:dict_size]] \n",
    "print(len(wordlist_stopped))\n",
    "print(len(word_features))"
   ]
  },
  {
   "cell_type": "code",
   "execution_count": 37,
   "metadata": {},
   "outputs": [
    {
     "name": "stdout",
     "output_type": "stream",
     "text": [
      "['movie', 'film', 'one', 'like', 'good', 'time', 'even', 'would', 'story', 'really', 'see', 'well', 'much', 'bad', 'get', 'people', 'great', 'also', 'first', 'made']\n"
     ]
    }
   ],
   "source": [
    "print(word_features[:20])"
   ]
  },
  {
   "cell_type": "code",
   "execution_count": 38,
   "metadata": {},
   "outputs": [],
   "source": [
    "def features_oneHot(review):\n",
    "    review_words = set(review)\n",
    "    features = {}\n",
    "    for word in word_features:\n",
    "        features['contains({})'.format(word)] = (word in review_words)\n",
    "    return features"
   ]
  },
  {
   "cell_type": "code",
   "execution_count": 39,
   "metadata": {},
   "outputs": [
    {
     "data": {
      "text/plain": [
       "{'contains(movie)': True,\n",
       " 'contains(film)': True,\n",
       " 'contains(one)': False,\n",
       " 'contains(like)': True,\n",
       " 'contains(good)': True,\n",
       " 'contains(time)': False,\n",
       " 'contains(even)': False,\n",
       " 'contains(would)': True,\n",
       " 'contains(story)': False,\n",
       " 'contains(really)': False,\n",
       " 'contains(see)': False,\n",
       " 'contains(well)': True,\n",
       " 'contains(much)': False,\n",
       " 'contains(bad)': True,\n",
       " 'contains(get)': True,\n",
       " 'contains(people)': False,\n",
       " 'contains(great)': False,\n",
       " 'contains(also)': False,\n",
       " 'contains(first)': False,\n",
       " 'contains(made)': False,\n",
       " 'contains(make)': False,\n",
       " 'contains(way)': False,\n",
       " 'contains(could)': True,\n",
       " 'contains(movies)': False,\n",
       " 'contains(characters)': False,\n",
       " 'contains(think)': False,\n",
       " 'contains(watch)': True,\n",
       " 'contains(character)': False,\n",
       " 'contains(films)': False,\n",
       " 'contains(two)': False,\n",
       " 'contains(many)': False,\n",
       " 'contains(seen)': True,\n",
       " 'contains(love)': False,\n",
       " 'contains(plot)': False,\n",
       " 'contains(never)': True,\n",
       " 'contains(life)': False,\n",
       " 'contains(acting)': False,\n",
       " 'contains(show)': True,\n",
       " 'contains(best)': False,\n",
       " 'contains(know)': False,\n",
       " 'contains(little)': False,\n",
       " 'contains(ever)': False,\n",
       " 'contains(man)': False,\n",
       " 'contains(better)': False,\n",
       " 'contains(end)': False,\n",
       " 'contains(scene)': False,\n",
       " 'contains(still)': False,\n",
       " 'contains(say)': False,\n",
       " 'contains(scenes)': False,\n",
       " 'contains(something)': False,\n",
       " 'contains(go)': False,\n",
       " 'contains(back)': False,\n",
       " 'contains(real)': False,\n",
       " 'contains(thing)': False,\n",
       " 'contains(watching)': True,\n",
       " 'contains(actors)': False,\n",
       " 'contains(director)': False,\n",
       " 'contains(years)': False,\n",
       " 'contains(funny)': False,\n",
       " 'contains(though)': False,\n",
       " 'contains(old)': True,\n",
       " 'contains(another)': False,\n",
       " 'contains(work)': True,\n",
       " 'contains(actually)': False,\n",
       " 'contains(nothing)': False,\n",
       " 'contains(makes)': False,\n",
       " 'contains(look)': False,\n",
       " 'contains(find)': False,\n",
       " 'contains(going)': False,\n",
       " 'contains(new)': False,\n",
       " 'contains(lot)': False,\n",
       " 'contains(every)': False,\n",
       " 'contains(part)': False,\n",
       " 'contains(world)': False,\n",
       " 'contains(cast)': False,\n",
       " 'contains(us)': False,\n",
       " 'contains(things)': False,\n",
       " 'contains(want)': True,\n",
       " 'contains(quite)': False,\n",
       " 'contains(pretty)': False,\n",
       " 'contains(horror)': True,\n",
       " 'contains(around)': False,\n",
       " 'contains(seems)': False,\n",
       " 'contains(young)': False,\n",
       " 'contains(take)': False,\n",
       " 'contains(big)': True,\n",
       " 'contains(however)': False,\n",
       " 'contains(got)': False,\n",
       " 'contains(thought)': True,\n",
       " 'contains(fact)': False,\n",
       " 'contains(enough)': False,\n",
       " 'contains(long)': False,\n",
       " 'contains(give)': False,\n",
       " 'contains(may)': False,\n",
       " 'contains(comedy)': False,\n",
       " 'contains(series)': False,\n",
       " 'contains(must)': False,\n",
       " 'contains(right)': False,\n",
       " 'contains(action)': False,\n",
       " 'contains(music)': False,\n",
       " 'contains(without)': False,\n",
       " 'contains(guy)': False,\n",
       " 'contains(times)': False,\n",
       " 'contains(saw)': False,\n",
       " 'contains(original)': False,\n",
       " 'contains(always)': False,\n",
       " 'contains(role)': False,\n",
       " 'contains(come)': False,\n",
       " 'contains(almost)': False,\n",
       " 'contains(gets)': False,\n",
       " 'contains(point)': True,\n",
       " 'contains(interesting)': True,\n",
       " 'contains(done)': False,\n",
       " 'contains(whole)': False,\n",
       " 'contains(least)': True,\n",
       " 'contains(far)': False,\n",
       " 'contains(bit)': False,\n",
       " 'contains(script)': True,\n",
       " 'contains(family)': False,\n",
       " 'contains(minutes)': False,\n",
       " 'contains(feel)': False,\n",
       " 'contains(might)': False,\n",
       " 'contains(making)': False,\n",
       " 'contains(anything)': False,\n",
       " 'contains(since)': False,\n",
       " 'contains(tv)': False,\n",
       " 'contains(last)': False,\n",
       " 'contains(probably)': True,\n",
       " 'contains(performance)': False,\n",
       " 'contains(kind)': False,\n",
       " 'contains(away)': False,\n",
       " 'contains(girl)': False,\n",
       " 'contains(yet)': False,\n",
       " 'contains(fun)': False,\n",
       " 'contains(anyone)': False,\n",
       " 'contains(woman)': False,\n",
       " 'contains(worst)': False,\n",
       " 'contains(sure)': False,\n",
       " 'contains(rather)': False,\n",
       " 'contains(hard)': False,\n",
       " 'contains(day)': False,\n",
       " 'contains(played)': False,\n",
       " 'contains(found)': False,\n",
       " 'contains(looking)': False,\n",
       " 'contains(screen)': False,\n",
       " 'contains(although)': False,\n",
       " 'contains(especially)': False,\n",
       " 'contains(believe)': True,\n",
       " 'contains(dvd)': False,\n",
       " 'contains(trying)': False,\n",
       " 'contains(course)': False,\n",
       " 'contains(everything)': False,\n",
       " 'contains(set)': False,\n",
       " 'contains(goes)': False,\n",
       " 'contains(book)': False,\n",
       " 'contains(ending)': False,\n",
       " 'contains(put)': False,\n",
       " 'contains(comes)': False,\n",
       " 'contains(maybe)': False,\n",
       " 'contains(place)': False,\n",
       " 'contains(shows)': False,\n",
       " 'contains(three)': False,\n",
       " 'contains(let)': False,\n",
       " 'contains(worth)': False,\n",
       " 'contains(different)': False,\n",
       " 'contains(actor)': False,\n",
       " 'contains(main)': False,\n",
       " 'contains(sense)': False,\n",
       " 'contains(someone)': False,\n",
       " 'contains(american)': False,\n",
       " 'contains(reason)': False,\n",
       " 'contains(play)': False,\n",
       " 'contains(effects)': False,\n",
       " 'contains(looks)': False,\n",
       " 'contains(true)': False,\n",
       " 'contains(money)': False,\n",
       " 'contains(watched)': False,\n",
       " 'contains(year)': False,\n",
       " 'contains(everyone)': False,\n",
       " 'contains(job)': False,\n",
       " 'contains(together)': False,\n",
       " 'contains(war)': False,\n",
       " 'contains(high)': False,\n",
       " 'contains(plays)': False,\n",
       " 'contains(instead)': False,\n",
       " 'contains(audience)': False,\n",
       " 'contains(half)': False,\n",
       " 'contains(said)': False,\n",
       " 'contains(later)': False,\n",
       " 'contains(takes)': False,\n",
       " 'contains(special)': False,\n",
       " 'contains(john)': False,\n",
       " 'contains(night)': False,\n",
       " 'contains(seem)': False,\n",
       " 'contains(beautiful)': False,\n",
       " 'contains(left)': False,\n",
       " 'contains(black)': False,\n",
       " 'contains(seeing)': False,\n",
       " 'contains(wife)': False,\n",
       " 'contains(version)': False,\n",
       " 'contains(shot)': False,\n",
       " 'contains(excellent)': False,\n",
       " 'contains(idea)': True,\n",
       " 'contains(house)': False,\n",
       " 'contains(star)': False,\n",
       " 'contains(else)': False,\n",
       " 'contains(mind)': False,\n",
       " 'contains(death)': False,\n",
       " 'contains(fan)': True,\n",
       " 'contains(father)': False,\n",
       " 'contains(used)': False,\n",
       " 'contains(nice)': False,\n",
       " 'contains(budget)': False,\n",
       " 'contains(simply)': False,\n",
       " 'contains(poor)': False,\n",
       " 'contains(short)': False,\n",
       " 'contains(completely)': False,\n",
       " 'contains(second)': False,\n",
       " 'contains(men)': False,\n",
       " 'contains(read)': False,\n",
       " 'contains(less)': False,\n",
       " 'contains(along)': False,\n",
       " 'contains(top)': False,\n",
       " 'contains(home)': False,\n",
       " 'contains(dead)': False,\n",
       " 'contains(help)': False,\n",
       " 'contains(line)': False,\n",
       " 'contains(hollywood)': False,\n",
       " 'contains(kids)': False,\n",
       " 'contains(either)': True,\n",
       " 'contains(boring)': False,\n",
       " 'contains(friends)': False,\n",
       " 'contains(camera)': False,\n",
       " 'contains(production)': False,\n",
       " 'contains(try)': False,\n",
       " 'contains(wrong)': False,\n",
       " 'contains(enjoy)': False,\n",
       " 'contains(classic)': False,\n",
       " 'contains(low)': False,\n",
       " 'contains(use)': False,\n",
       " 'contains(given)': False,\n",
       " 'contains(women)': False,\n",
       " 'contains(full)': False,\n",
       " 'contains(need)': False,\n",
       " 'contains(school)': False,\n",
       " 'contains(stupid)': False,\n",
       " 'contains(next)': False,\n",
       " 'contains(performances)': False,\n",
       " 'contains(rest)': False,\n",
       " 'contains(truly)': False,\n",
       " 'contains(couple)': False,\n",
       " 'contains(video)': False,\n",
       " 'contains(awful)': False,\n",
       " 'contains(sex)': False,\n",
       " 'contains(start)': False,\n",
       " 'contains(recommend)': False,\n",
       " 'contains(tell)': False,\n",
       " 'contains(terrible)': False,\n",
       " 'contains(mean)': False,\n",
       " 'contains(remember)': False,\n",
       " 'contains(getting)': False,\n",
       " 'contains(came)': False,\n",
       " 'contains(understand)': False,\n",
       " 'contains(perhaps)': False,\n",
       " 'contains(name)': False,\n",
       " 'contains(moments)': False,\n",
       " 'contains(face)': False,\n",
       " 'contains(keep)': False,\n",
       " 'contains(person)': False,\n",
       " 'contains(human)': False,\n",
       " 'contains(wonderful)': False,\n",
       " 'contains(mother)': False,\n",
       " 'contains(playing)': False,\n",
       " 'contains(style)': False,\n",
       " 'contains(episode)': False,\n",
       " 'contains(small)': False,\n",
       " 'contains(others)': False,\n",
       " 'contains(boy)': False,\n",
       " 'contains(perfect)': False,\n",
       " 'contains(stars)': False,\n",
       " 'contains(early)': False,\n",
       " 'contains(head)': False,\n",
       " 'contains(often)': False,\n",
       " 'contains(written)': False,\n",
       " 'contains(definitely)': False,\n",
       " 'contains(lines)': False,\n",
       " 'contains(children)': False,\n",
       " 'contains(dialogue)': False,\n",
       " 'contains(gives)': False,\n",
       " 'contains(piece)': False,\n",
       " 'contains(went)': False,\n",
       " 'contains(case)': False,\n",
       " 'contains(finally)': False,\n",
       " 'contains(yes)': False,\n",
       " 'contains(title)': False,\n",
       " 'contains(absolutely)': False,\n",
       " 'contains(live)': False,\n",
       " 'contains(laugh)': False,\n",
       " 'contains(oh)': False,\n",
       " 'contains(certainly)': False,\n",
       " 'contains(friend)': False,\n",
       " 'contains(lost)': False,\n",
       " 'contains(liked)': False,\n",
       " 'contains(become)': False,\n",
       " 'contains(entertaining)': False,\n",
       " 'contains(worse)': False,\n",
       " 'contains(sort)': False,\n",
       " 'contains(cinema)': False,\n",
       " 'contains(loved)': False,\n",
       " 'contains(picture)': False,\n",
       " 'contains(called)': False,\n",
       " 'contains(hope)': False,\n",
       " 'contains(felt)': False,\n",
       " 'contains(overall)': False,\n",
       " 'contains(mr)': False,\n",
       " 'contains(guys)': False,\n",
       " 'contains(based)': False,\n",
       " 'contains(entire)': False,\n",
       " 'contains(several)': False,\n",
       " 'contains(supposed)': False,\n",
       " 'contains(drama)': False,\n",
       " 'contains(sound)': False,\n",
       " 'contains(problem)': False,\n",
       " 'contains(white)': False,\n",
       " 'contains(waste)': False,\n",
       " 'contains(beginning)': False,\n",
       " 'contains(dark)': False,\n",
       " 'contains(fans)': True,\n",
       " 'contains(game)': False,\n",
       " 'contains(totally)': False,\n",
       " 'contains(care)': False,\n",
       " 'contains(humor)': False,\n",
       " 'contains(direction)': False,\n",
       " 'contains(wanted)': False,\n",
       " 'contains(seemed)': False,\n",
       " 'contains(lives)': False,\n",
       " 'contains(evil)': False,\n",
       " 'contains(lead)': False,\n",
       " 'contains(despite)': False,\n",
       " 'contains(guess)': False,\n",
       " 'contains(example)': False,\n",
       " 'contains(final)': False,\n",
       " 'contains(turn)': False,\n",
       " 'contains(already)': False,\n",
       " 'contains(throughout)': False,\n",
       " 'contains(becomes)': False,\n",
       " 'contains(killer)': False,\n",
       " 'contains(able)': False,\n",
       " 'contains(unfortunately)': False,\n",
       " 'contains(son)': False,\n",
       " 'contains(quality)': False,\n",
       " 'contains(days)': False,\n",
       " 'contains(history)': False,\n",
       " 'contains(heart)': False,\n",
       " 'contains(side)': False,\n",
       " 'contains(fine)': False,\n",
       " 'contains(michael)': False,\n",
       " 'contains(flick)': False,\n",
       " 'contains(wants)': False,\n",
       " 'contains(writing)': False,\n",
       " 'contains(horrible)': False,\n",
       " 'contains(amazing)': False,\n",
       " 'contains(run)': False,\n",
       " 'contains(today)': False,\n",
       " 'contains(art)': False,\n",
       " 'contains(town)': False,\n",
       " 'contains(act)': False,\n",
       " 'contains(works)': False,\n",
       " 'contains(close)': False,\n",
       " 'contains(god)': False,\n",
       " 'contains(kill)': False,\n",
       " 'contains(child)': False,\n",
       " 'contains(matter)': False,\n",
       " 'contains(etc)': False,\n",
       " 'contains(tries)': False,\n",
       " 'contains(viewer)': False,\n",
       " 'contains(past)': False,\n",
       " 'contains(genre)': False,\n",
       " 'contains(enjoyed)': False,\n",
       " 'contains(turns)': False,\n",
       " 'contains(brilliant)': False,\n",
       " 'contains(behind)': False,\n",
       " 'contains(gave)': False,\n",
       " 'contains(car)': False,\n",
       " 'contains(stuff)': False,\n",
       " 'contains(parts)': False,\n",
       " 'contains(eyes)': False,\n",
       " 'contains(favorite)': False,\n",
       " 'contains(girls)': False,\n",
       " 'contains(directed)': False,\n",
       " 'contains(hand)': False,\n",
       " 'contains(kid)': False,\n",
       " 'contains(late)': False,\n",
       " 'contains(city)': False,\n",
       " 'contains(hour)': False,\n",
       " 'contains(expect)': False,\n",
       " 'contains(soon)': False,\n",
       " 'contains(actress)': False,\n",
       " 'contains(obviously)': False,\n",
       " 'contains(sometimes)': False,\n",
       " 'contains(killed)': False,\n",
       " 'contains(thinking)': False,\n",
       " 'contains(starts)': False,\n",
       " 'contains(decent)': False,\n",
       " 'contains(stop)': False,\n",
       " 'contains(type)': False,\n",
       " 'contains(self)': False,\n",
       " 'contains(daughter)': False,\n",
       " 'contains(highly)': False,\n",
       " 'contains(group)': False,\n",
       " 'contains(blood)': False,\n",
       " 'contains(says)': False,\n",
       " 'contains(voice)': False,\n",
       " 'contains(anyway)': False,\n",
       " 'contains(writer)': False,\n",
       " 'contains(took)': False,\n",
       " 'contains(known)': False,\n",
       " 'contains(heard)': False,\n",
       " 'contains(happens)': False,\n",
       " 'contains(except)': False,\n",
       " 'contains(fight)': False,\n",
       " 'contains(feeling)': False,\n",
       " 'contains(experience)': False,\n",
       " 'contains(coming)': False,\n",
       " 'contains(slow)': False,\n",
       " 'contains(moment)': False,\n",
       " 'contains(stories)': False,\n",
       " 'contains(leave)': False,\n",
       " 'contains(police)': False,\n",
       " 'contains(told)': False,\n",
       " 'contains(score)': False,\n",
       " 'contains(extremely)': True,\n",
       " 'contains(violence)': False,\n",
       " 'contains(involved)': False,\n",
       " 'contains(strong)': False,\n",
       " 'contains(chance)': False,\n",
       " 'contains(hero)': False,\n",
       " 'contains(lack)': False,\n",
       " 'contains(ok)': False,\n",
       " 'contains(hit)': False,\n",
       " 'contains(cannot)': False,\n",
       " 'contains(hilarious)': False,\n",
       " 'contains(happen)': False,\n",
       " 'contains(roles)': False,\n",
       " 'contains(wonder)': False,\n",
       " 'contains(living)': False,\n",
       " 'contains(particularly)': False,\n",
       " 'contains(including)': False,\n",
       " 'contains(save)': False,\n",
       " 'contains(hell)': False,\n",
       " 'contains(crap)': False,\n",
       " 'contains(brother)': False,\n",
       " 'contains(looked)': False,\n",
       " 'contains(murder)': False,\n",
       " 'contains(cool)': False,\n",
       " 'contains(david)': False,\n",
       " 'contains(simple)': False,\n",
       " 'contains(please)': False,\n",
       " 'contains(age)': False,\n",
       " 'contains(cut)': False,\n",
       " 'contains(obvious)': False,\n",
       " 'contains(song)': False,\n",
       " 'contains(complete)': False,\n",
       " 'contains(happened)': False,\n",
       " 'contains(gore)': False,\n",
       " 'contains(serious)': False,\n",
       " 'contains(james)': False,\n",
       " 'contains(attempt)': False,\n",
       " 'contains(ago)': False,\n",
       " 'contains(shown)': False,\n",
       " 'contains(taken)': False,\n",
       " 'contains(robert)': False,\n",
       " 'contains(husband)': False,\n",
       " 'contains(english)': False,\n",
       " 'contains(seriously)': False,\n",
       " 'contains(reality)': False,\n",
       " 'contains(released)': False,\n",
       " 'contains(jokes)': False,\n",
       " 'contains(opening)': False,\n",
       " 'contains(interest)': False,\n",
       " 'contains(none)': False,\n",
       " 'contains(across)': False,\n",
       " 'contains(alone)': False,\n",
       " 'contains(sad)': False,\n",
       " 'contains(exactly)': False,\n",
       " 'contains(possible)': False,\n",
       " 'contains(career)': False,\n",
       " 'contains(number)': False,\n",
       " 'contains(hours)': False,\n",
       " 'contains(saying)': False,\n",
       " 'contains(usually)': False,\n",
       " 'contains(talent)': False,\n",
       " 'contains(cinematography)': False,\n",
       " 'contains(view)': False,\n",
       " 'contains(documentary)': False,\n",
       " 'contains(relationship)': False,\n",
       " 'contains(annoying)': False,\n",
       " 'contains(running)': False,\n",
       " 'contains(order)': False,\n",
       " 'contains(wish)': False,\n",
       " 'contains(huge)': False,\n",
       " 'contains(shots)': False,\n",
       " 'contains(whose)': False,\n",
       " 'contains(body)': False,\n",
       " 'contains(light)': False,\n",
       " 'contains(taking)': False,\n",
       " 'contains(ridiculous)': False,\n",
       " 'contains(country)': False,\n",
       " 'contains(power)': False,\n",
       " 'contains(important)': False,\n",
       " 'contains(middle)': False,\n",
       " 'contains(call)': False,\n",
       " 'contains(female)': False,\n",
       " 'contains(level)': False,\n",
       " 'contains(ends)': False,\n",
       " 'contains(major)': False,\n",
       " 'contains(four)': False,\n",
       " 'contains(started)': False,\n",
       " 'contains(word)': False,\n",
       " 'contains(turned)': False,\n",
       " 'contains(opinion)': False,\n",
       " 'contains(jack)': False,\n",
       " 'contains(scary)': False,\n",
       " 'contains(change)': False,\n",
       " 'contains(mostly)': False,\n",
       " 'contains(usual)': False,\n",
       " 'contains(beyond)': False,\n",
       " 'contains(room)': False,\n",
       " 'contains(ones)': False,\n",
       " 'contains(happy)': False,\n",
       " 'contains(silly)': False,\n",
       " 'contains(rating)': False,\n",
       " 'contains(somewhat)': False,\n",
       " 'contains(words)': False,\n",
       " 'contains(novel)': False,\n",
       " 'contains(talking)': False,\n",
       " 'contains(knew)': False,\n",
       " 'contains(knows)': False,\n",
       " 'contains(disappointed)': False,\n",
       " 'contains(strange)': False,\n",
       " 'contains(apparently)': False,\n",
       " 'contains(non)': False,\n",
       " 'contains(upon)': False,\n",
       " 'contains(attention)': False,\n",
       " 'contains(modern)': False,\n",
       " 'contains(single)': False,\n",
       " 'contains(cheap)': False,\n",
       " 'contains(finds)': False,\n",
       " 'contains(basically)': False,\n",
       " 'contains(television)': True,\n",
       " 'contains(due)': False,\n",
       " 'contains(musical)': False,\n",
       " 'contains(earth)': False,\n",
       " 'contains(problems)': False,\n",
       " 'contains(miss)': False,\n",
       " 'contains(clich)': False,\n",
       " 'contains(episodes)': False,\n",
       " 'contains(clearly)': False,\n",
       " 'contains(thriller)': False,\n",
       " 'contains(local)': False,\n",
       " 'contains(king)': False,\n",
       " 'contains(five)': False,\n",
       " 'contains(talk)': False,\n",
       " 'contains(british)': False,\n",
       " 'contains(events)': False,\n",
       " 'contains(class)': False,\n",
       " 'contains(sequence)': False,\n",
       " 'contains(team)': False,\n",
       " 'contains(french)': False,\n",
       " 'contains(moving)': False,\n",
       " 'contains(ten)': False,\n",
       " 'contains(fast)': False,\n",
       " 'contains(review)': False,\n",
       " 'contains(tells)': False,\n",
       " 'contains(straight)': False,\n",
       " 'contains(predictable)': False,\n",
       " 'contains(die)': False,\n",
       " 'contains(comic)': False,\n",
       " 'contains(entertainment)': False,\n",
       " 'contains(songs)': False,\n",
       " 'contains(space)': False,\n",
       " 'contains(whether)': False,\n",
       " 'contains(george)': False,\n",
       " 'contains(future)': False,\n",
       " 'contains(dialog)': False,\n",
       " 'contains(add)': False,\n",
       " 'contains(sets)': False,\n",
       " 'contains(easily)': False,\n",
       " 'contains(near)': False,\n",
       " 'contains(enjoyable)': False,\n",
       " 'contains(appears)': False,\n",
       " 'contains(soundtrack)': False,\n",
       " 'contains(hate)': False,\n",
       " 'contains(bring)': False,\n",
       " 'contains(romantic)': False,\n",
       " 'contains(giving)': False,\n",
       " 'contains(lots)': False,\n",
       " 'contains(similar)': False,\n",
       " 'contains(supporting)': False,\n",
       " 'contains(message)': False,\n",
       " 'contains(release)': False,\n",
       " 'contains(mention)': False,\n",
       " 'contains(eye)': False,\n",
       " 'contains(within)': False,\n",
       " 'contains(filmed)': False,\n",
       " 'contains(sequel)': False,\n",
       " 'contains(falls)': False,\n",
       " 'contains(sister)': False,\n",
       " 'contains(monster)': False,\n",
       " 'contains(rock)': False,\n",
       " 'contains(clear)': False,\n",
       " 'contains(needs)': False,\n",
       " 'contains(bunch)': False,\n",
       " 'contains(dull)': False,\n",
       " 'contains(suspense)': False,\n",
       " 'contains(surprised)': False,\n",
       " 'contains(showing)': False,\n",
       " 'contains(easy)': False,\n",
       " 'contains(sorry)': False,\n",
       " 'contains(tried)': False,\n",
       " 'contains(certain)': False,\n",
       " 'contains(working)': False,\n",
       " 'contains(ways)': False,\n",
       " 'contains(theme)': False,\n",
       " 'contains(theater)': False,\n",
       " 'contains(parents)': False,\n",
       " 'contains(among)': False,\n",
       " 'contains(named)': False,\n",
       " 'contains(storyline)': False,\n",
       " 'contains(lady)': False,\n",
       " 'contains(stay)': False,\n",
       " 'contains(fall)': True,\n",
       " 'contains(effort)': False,\n",
       " 'contains(stand)': False,\n",
       " 'contains(minute)': False,\n",
       " 'contains(gone)': False,\n",
       " 'contains(feature)': False,\n",
       " 'contains(dr)': False,\n",
       " 'contains(tale)': False,\n",
       " 'contains(buy)': False,\n",
       " 'contains(dog)': False,\n",
       " 'contains(using)': False,\n",
       " 'contains(typical)': False,\n",
       " 'contains(comments)': False,\n",
       " 'contains(th)': False,\n",
       " 'contains(editing)': False,\n",
       " 'contains(subject)': False,\n",
       " 'contains(mystery)': False,\n",
       " 'contains(avoid)': False,\n",
       " 'contains(deal)': False,\n",
       " 'contains(oscar)': False,\n",
       " 'contains(doubt)': False,\n",
       " 'contains(richard)': False,\n",
       " 'contains(okay)': False,\n",
       " 'contains(peter)': False,\n",
       " 'contains(fantastic)': False,\n",
       " 'contains(viewers)': False,\n",
       " 'contains(realistic)': False,\n",
       " 'contains(feels)': False,\n",
       " 'contains(kept)': True,\n",
       " 'contains(nearly)': False,\n",
       " 'contains(general)': False,\n",
       " 'contains(check)': False,\n",
       " 'contains(viewing)': False,\n",
       " 'contains(elements)': False,\n",
       " 'contains(points)': False,\n",
       " 'contains(greatest)': False,\n",
       " 'contains(means)': False,\n",
       " 'contains(famous)': False,\n",
       " 'contains(crime)': False,\n",
       " 'contains(rent)': False,\n",
       " 'contains(imagine)': False,\n",
       " 'contains(paul)': False,\n",
       " 'contains(form)': False,\n",
       " 'contains(actual)': False,\n",
       " 'contains(red)': False,\n",
       " 'contains(follow)': False,\n",
       " 'contains(period)': False,\n",
       " 'contains(material)': False,\n",
       " 'contains(believable)': False,\n",
       " 'contains(tom)': False,\n",
       " 'contains(move)': False,\n",
       " 'contains(brought)': False,\n",
       " 'contains(somehow)': False,\n",
       " 'contains(forget)': False,\n",
       " 'contains(begins)': False,\n",
       " 'contains(animation)': False,\n",
       " 'contains(reviews)': True,\n",
       " 'contains(leads)': False,\n",
       " 'contains(imdb)': False,\n",
       " 'contains(doctor)': False,\n",
       " 'contains(surprise)': False,\n",
       " 'contains(figure)': False,\n",
       " 'contains(america)': False,\n",
       " 'contains(weak)': False,\n",
       " 'contains(hear)': False,\n",
       " 'contains(average)': False,\n",
       " 'contains(sit)': False,\n",
       " 'contains(open)': False,\n",
       " 'contains(york)': False,\n",
       " 'contains(deep)': False,\n",
       " 'contains(fi)': False,\n",
       " 'contains(sequences)': False,\n",
       " 'contains(killing)': False,\n",
       " 'contains(atmosphere)': False,\n",
       " 'contains(wait)': False,\n",
       " 'contains(eventually)': False,\n",
       " 'contains(learn)': False,\n",
       " 'contains(premise)': False,\n",
       " 'contains(sci)': False,\n",
       " 'contains(whatever)': False,\n",
       " 'contains(expected)': False,\n",
       " 'contains(dance)': False,\n",
       " 'contains(boys)': False,\n",
       " 'contains(lame)': False,\n",
       " 'contains(indeed)': False,\n",
       " 'contains(poorly)': False,\n",
       " 'contains(note)': False,\n",
       " 'contains(particular)': False,\n",
       " 'contains(box)': False,\n",
       " 'contains(truth)': False,\n",
       " 'contains(hot)': False,\n",
       " 'contains(situation)': False,\n",
       " 'contains(third)': False,\n",
       " 'contains(shame)': False,\n",
       " 'contains(society)': False,\n",
       " 'contains(season)': False,\n",
       " 'contains(free)': False,\n",
       " 'contains(decided)': False,\n",
       " 'contains(difficult)': False,\n",
       " 'contains(romance)': False,\n",
       " 'contains(lee)': False,\n",
       " 'contains(needed)': False,\n",
       " 'contains(acted)': False,\n",
       " 'contains(crew)': False,\n",
       " 'contains(leaves)': False,\n",
       " 'contains(gay)': False,\n",
       " 'contains(sexual)': False,\n",
       " 'contains(emotional)': False,\n",
       " 'contains(unless)': False,\n",
       " 'contains(western)': False,\n",
       " 'contains(possibly)': False,\n",
       " 'contains(footage)': False,\n",
       " 'contains(de)': False,\n",
       " 'contains(credits)': False,\n",
       " 'contains(write)': False,\n",
       " 'contains(forced)': False,\n",
       " 'contains(memorable)': False,\n",
       " 'contains(became)': False,\n",
       " 'contains(reading)': False,\n",
       " 'contains(begin)': False,\n",
       " 'contains(otherwise)': False,\n",
       " 'contains(air)': False,\n",
       " 'contains(question)': False,\n",
       " 'contains(meet)': False,\n",
       " 'contains(male)': False,\n",
       " 'contains(street)': False,\n",
       " 'contains(nature)': False,\n",
       " 'contains(beauty)': False,\n",
       " 'contains(meets)': False,\n",
       " 'contains(plus)': False,\n",
       " 'contains(hands)': False,\n",
       " 'contains(cheesy)': False,\n",
       " 'contains(screenplay)': False,\n",
       " 'contains(masterpiece)': False,\n",
       " 'contains(superb)': False,\n",
       " 'contains(effect)': False,\n",
       " 'contains(features)': False,\n",
       " 'contains(stage)': False,\n",
       " 'contains(interested)': False,\n",
       " 'contains(perfectly)': False,\n",
       " 'contains(laughs)': False,\n",
       " 'contains(island)': False,\n",
       " 'contains(comment)': False,\n",
       " 'contains(forward)': False,\n",
       " 'contains(cop)': False,\n",
       " 'contains(badly)': False,\n",
       " 'contains(weird)': False,\n",
       " 'contains(previous)': False,\n",
       " 'contains(japanese)': False,\n",
       " 'contains(sounds)': False,\n",
       " 'contains(inside)': False,\n",
       " 'contains(personal)': False,\n",
       " 'contains(quickly)': False,\n",
       " 'contains(total)': False,\n",
       " 'contains(crazy)': False,\n",
       " 'contains(baby)': False,\n",
       " 'contains(mark)': False,\n",
       " 'contains(result)': False,\n",
       " 'contains(girlfriend)': False,\n",
       " 'contains(keeps)': False,\n",
       " 'contains(disney)': False,\n",
       " 'contains(towards)': False,\n",
       " 'contains(writers)': False,\n",
       " 'contains(battle)': False,\n",
       " 'contains(fire)': False,\n",
       " 'contains(setting)': False,\n",
       " 'contains(worked)': False,\n",
       " 'contains(joe)': False,\n",
       " 'contains(background)': False,\n",
       " 'contains(incredibly)': False,\n",
       " 'contains(earlier)': False,\n",
       " 'contains(mess)': False,\n",
       " 'contains(copy)': False,\n",
       " 'contains(business)': False,\n",
       " 'contains(dumb)': True,\n",
       " 'contains(unique)': False,\n",
       " 'contains(bill)': False,\n",
       " 'contains(realize)': False,\n",
       " 'contains(directors)': False,\n",
       " 'contains(powerful)': False,\n",
       " 'contains(water)': False,\n",
       " 'contains(dramatic)': False,\n",
       " 'contains(older)': False,\n",
       " 'contains(rate)': False,\n",
       " 'contains(joke)': False,\n",
       " 'contains(dream)': False,\n",
       " 'contains(following)': False,\n",
       " 'contains(pay)': False,\n",
       " 'contains(plenty)': False,\n",
       " 'contains(directing)': False,\n",
       " 'contains(ask)': False,\n",
       " 'contains(various)': False,\n",
       " 'contains(creepy)': False,\n",
       " 'contains(development)': False,\n",
       " 'contains(appear)': False,\n",
       " 'contains(front)': False,\n",
       " 'contains(brings)': False,\n",
       " 'contains(rich)': False,\n",
       " 'contains(political)': False,\n",
       " 'contains(admit)': False,\n",
       " 'contains(apart)': False,\n",
       " 'contains(cover)': False,\n",
       " 'contains(leading)': False,\n",
       " 'contains(fairly)': False,\n",
       " 'contains(spent)': False,\n",
       " 'contains(reasons)': False,\n",
       " 'contains(portrayed)': False,\n",
       " 'contains(era)': False,\n",
       " 'contains(gun)': False,\n",
       " 'contains(outside)': False,\n",
       " 'contains(present)': False,\n",
       " 'contains(telling)': False,\n",
       " 'contains(party)': False,\n",
       " 'contains(wasted)': False,\n",
       " 'contains(fighting)': False,\n",
       " 'contains(zombie)': False,\n",
       " 'contains(william)': False,\n",
       " 'contains(fails)': False,\n",
       " 'contains(deserves)': False,\n",
       " 'contains(success)': False,\n",
       " 'contains(break)': False,\n",
       " 'contains(twist)': False,\n",
       " 'contains(list)': False,\n",
       " 'contains(meant)': False,\n",
       " 'contains(secret)': False,\n",
       " 'contains(create)': False,\n",
       " 'contains(expecting)': False,\n",
       " 'contains(attempts)': False,\n",
       " 'contains(return)': False,\n",
       " 'contains(missing)': False,\n",
       " 'contains(ideas)': False,\n",
       " 'contains(manages)': False,\n",
       " 'contains(ended)': False,\n",
       " 'contains(cute)': False,\n",
       " 'contains(recently)': False,\n",
       " 'contains(agree)': False,\n",
       " 'contains(villain)': False,\n",
       " 'contains(german)': False,\n",
       " 'contains(match)': False,\n",
       " 'contains(talented)': False,\n",
       " 'contains(caught)': False,\n",
       " 'contains(fantasy)': False,\n",
       " 'contains(odd)': False,\n",
       " 'contains(large)': False,\n",
       " 'contains(unlike)': False,\n",
       " 'contains(hardly)': False,\n",
       " 'contains(produced)': False,\n",
       " 'contains(clever)': False,\n",
       " 'contains(co)': False,\n",
       " 'contains(laughing)': False,\n",
       " 'contains(remake)': True,\n",
       " 'contains(office)': False,\n",
       " 'contains(spoilers)': False,\n",
       " 'contains(members)': False,\n",
       " 'contains(plain)': False,\n",
       " 'contains(nudity)': False,\n",
       " 'contains(escape)': False,\n",
       " 'contains(italian)': False,\n",
       " 'contains(filmmakers)': False,\n",
       " 'contains(public)': False,\n",
       " 'contains(century)': False,\n",
       " 'contains(potential)': False,\n",
       " 'contains(created)': False,\n",
       " 'contains(casting)': False,\n",
       " 'contains(state)': False,\n",
       " 'contains(missed)': False,\n",
       " 'contains(flat)': False,\n",
       " 'contains(pace)': False,\n",
       " 'contains(company)': False,\n",
       " 'contains(wrote)': False,\n",
       " 'contains(cartoon)': False,\n",
       " 'contains(married)': False,\n",
       " 'contains(pure)': False,\n",
       " 'contains(waiting)': False,\n",
       " 'contains(filled)': False,\n",
       " 'contains(scott)': False,\n",
       " 'contains(cause)': False,\n",
       " 'contains(hold)': False,\n",
       " 'contains(cold)': False,\n",
       " 'contains(incredible)': False,\n",
       " 'contains(train)': False,\n",
       " 'contains(mentioned)': False,\n",
       " 'contains(sadly)': False,\n",
       " 'contains(van)': False,\n",
       " 'contains(science)': False,\n",
       " 'contains(visual)': False,\n",
       " 'contains(familiar)': False,\n",
       " 'contains(slightly)': False,\n",
       " 'contains(considering)': False,\n",
       " 'contains(speak)': False,\n",
       " 'contains(store)': False,\n",
       " 'contains(died)': False,\n",
       " 'contains(language)': False,\n",
       " 'contains(popular)': False,\n",
       " 'contains(sweet)': False,\n",
       " 'contains(credit)': False,\n",
       " 'contains(anti)': False,\n",
       " 'contains(force)': False,\n",
       " 'contains(la)': False,\n",
       " 'contains(tension)': False,\n",
       " 'contains(convincing)': False,\n",
       " 'contains(uses)': False,\n",
       " 'contains(jane)': False,\n",
       " 'contains(value)': False,\n",
       " 'contains(decides)': False,\n",
       " 'contains(social)': False,\n",
       " 'contains(sees)': False,\n",
       " 'contains(entirely)': False,\n",
       " 'contains(dancing)': False,\n",
       " 'contains(bored)': False,\n",
       " 'contains(band)': False,\n",
       " 'contains(hair)': False,\n",
       " 'contains(neither)': False,\n",
       " 'contains(intelligent)': True,\n",
       " 'contains(trouble)': False,\n",
       " 'contains(compared)': False,\n",
       " 'contains(law)': False,\n",
       " 'contains(follows)': False,\n",
       " 'contains(former)': False,\n",
       " 'contains(choice)': False,\n",
       " 'contains(portrayal)': False,\n",
       " 'contains(common)': False,\n",
       " 'contains(brain)': False,\n",
       " 'contains(mad)': False,\n",
       " 'contains(appreciate)': False,\n",
       " 'contains(suddenly)': False,\n",
       " 'contains(college)': False,\n",
       " 'contains(fit)': False,\n",
       " 'contains(alive)': False,\n",
       " 'contains(fear)': False,\n",
       " 'contains(younger)': False,\n",
       " 'contains(brothers)': False,\n",
       " 'contains(amount)': False,\n",
       " 'contains(moves)': False,\n",
       " 'contains(cat)': False,\n",
       " 'contains(violent)': False,\n",
       " 'contains(depth)': False,\n",
       " 'contains(yeah)': False,\n",
       " 'contains(biggest)': False,\n",
       " 'contains(images)': False,\n",
       " 'contains(concept)': False,\n",
       " 'contains(project)': False,\n",
       " 'contains(post)': False,\n",
       " 'contains(producers)': False,\n",
       " 'contains(control)': False,\n",
       " 'contains(alien)': False,\n",
       " 'contains(drug)': False,\n",
       " 'contains(successful)': False,\n",
       " 'contains(fiction)': False,\n",
       " 'contains(recommended)': False,\n",
       " 'contains(amusing)': False,\n",
       " 'contains(situations)': False,\n",
       " 'contains(exciting)': False,\n",
       " 'contains(pointless)': False,\n",
       " 'contains(studio)': False,\n",
       " 'contains(focus)': False,\n",
       " 'contains(spirit)': False,\n",
       " 'contains(christmas)': False,\n",
       " 'contains(longer)': False,\n",
       " 'contains(pathetic)': False,\n",
       " 'contains(master)': False,\n",
       " 'contains(culture)': False,\n",
       " 'contains(sick)': False,\n",
       " 'contains(meaning)': False,\n",
       " 'contains(adventure)': False,\n",
       " 'contains(bizarre)': False,\n",
       " 'contains(spend)': False,\n",
       " 'contains(trash)': False,\n",
       " 'contains(fake)': False,\n",
       " ...}"
      ]
     },
     "execution_count": 39,
     "metadata": {},
     "output_type": "execute_result"
    }
   ],
   "source": [
    "features_oneHot(train_reviews[0][0])"
   ]
  },
  {
   "cell_type": "code",
   "execution_count": 40,
   "metadata": {},
   "outputs": [],
   "source": [
    "train_featureset = [(features_oneHot(d), c) for (d,c) in train_reviews]\n",
    "test_featureset  = [(features_oneHot(d), c) for (d,c) in test_reviews ]"
   ]
  },
  {
   "cell_type": "code",
   "execution_count": 41,
   "metadata": {},
   "outputs": [
    {
     "name": "stdout",
     "output_type": "stream",
     "text": [
      "0.84464\n"
     ]
    }
   ],
   "source": [
    "classifier = nltk.NaiveBayesClassifier.train(train_featureset)\n",
    "print(nltk.classify.accuracy(classifier, test_featureset))            #    84.46%"
   ]
  },
  {
   "cell_type": "code",
   "execution_count": 42,
   "metadata": {},
   "outputs": [
    {
     "name": "stdout",
     "output_type": "stream",
     "text": [
      "Most Informative Features\n",
      "       contains(unfunny) = True              neg : pos    =     14.1 : 1.0\n",
      "         contains(waste) = True              neg : pos    =     12.5 : 1.0\n",
      "     contains(pointless) = True              neg : pos    =     10.4 : 1.0\n",
      "     contains(redeeming) = True              neg : pos    =     10.1 : 1.0\n",
      "     contains(laughable) = True              neg : pos    =      9.1 : 1.0\n",
      "         contains(worst) = True              neg : pos    =      9.0 : 1.0\n",
      "         contains(awful) = True              neg : pos    =      8.4 : 1.0\n",
      "        contains(poorly) = True              neg : pos    =      8.2 : 1.0\n",
      "   contains(wonderfully) = True              pos : neg    =      7.6 : 1.0\n",
      "         contains(sucks) = True              neg : pos    =      7.1 : 1.0\n"
     ]
    }
   ],
   "source": [
    "classifier.show_most_informative_features(10)"
   ]
  },
  {
   "cell_type": "code",
   "execution_count": 43,
   "metadata": {},
   "outputs": [
    {
     "name": "stdout",
     "output_type": "stream",
     "text": [
      "    |      p      n |\n",
      "    |      o      e |\n",
      "    |      s      g |\n",
      "----+---------------+\n",
      "pos | <42.3%>  7.7% |\n",
      "neg |   7.8% <42.1%>|\n",
      "----+---------------+\n",
      "(row = reference; col = test)\n",
      "\n"
     ]
    }
   ],
   "source": [
    "gold = [sent for (_,sent) in test_featureset ] \n",
    "test = [classifier.classify( review ) for (review,_) in test_featureset]\n",
    "cm = nltk.ConfusionMatrix(gold, test)\n",
    "print(cm.pretty_format(sort_by_count=True, show_percents=True, truncate=9))"
   ]
  },
  {
   "cell_type": "markdown",
   "metadata": {},
   "source": [
    "\n",
    "###  Classification based on only 15 words\n",
    "Just to show that 15 task-specific words yield a higher accuracy than the approx. 2500 words from AFINN."
   ]
  },
  {
   "cell_type": "code",
   "execution_count": 44,
   "metadata": {},
   "outputs": [
    {
     "data": {
      "text/plain": [
       "15"
      ]
     },
     "execution_count": 44,
     "metadata": {},
     "output_type": "execute_result"
    }
   ],
   "source": [
    "selected_words = ['unfunny','waste','pointless','redeeming','laughable','worst','awful','poorly','wonderfully','sucks',\n",
    "                  'bad','lovely','boring','great','happy']\n",
    "len(selected_words)"
   ]
  },
  {
   "cell_type": "code",
   "execution_count": 45,
   "metadata": {},
   "outputs": [],
   "source": [
    "def features_selected(review):\n",
    "    review_words = set(review)\n",
    "    features = {}\n",
    "    for word in selected_words:\n",
    "        features['contains({})'.format(word)] = (word in review_words)\n",
    "    return features"
   ]
  },
  {
   "cell_type": "code",
   "execution_count": 46,
   "metadata": {},
   "outputs": [
    {
     "name": "stdout",
     "output_type": "stream",
     "text": [
      "0.7284\n",
      "Most Informative Features\n",
      "       contains(unfunny) = True              neg : pos    =     14.1 : 1.0\n",
      "         contains(waste) = True              neg : pos    =     12.5 : 1.0\n",
      "     contains(pointless) = True              neg : pos    =     10.4 : 1.0\n",
      "     contains(redeeming) = True              neg : pos    =     10.1 : 1.0\n",
      "     contains(laughable) = True              neg : pos    =      9.1 : 1.0\n",
      "         contains(worst) = True              neg : pos    =      9.0 : 1.0\n",
      "         contains(awful) = True              neg : pos    =      8.4 : 1.0\n",
      "        contains(poorly) = True              neg : pos    =      8.2 : 1.0\n",
      "   contains(wonderfully) = True              pos : neg    =      7.6 : 1.0\n",
      "         contains(sucks) = True              neg : pos    =      7.1 : 1.0\n",
      "        contains(boring) = True              neg : pos    =      4.0 : 1.0\n",
      "           contains(bad) = True              neg : pos    =      2.9 : 1.0\n",
      "        contains(lovely) = True              pos : neg    =      2.4 : 1.0\n",
      "         contains(great) = True              pos : neg    =      2.0 : 1.0\n",
      "         contains(happy) = True              pos : neg    =      1.6 : 1.0\n"
     ]
    }
   ],
   "source": [
    "train_featureset = [(features_selected(d), c) for (d,c) in train_reviews]\n",
    "test_featureset  = [(features_selected(d), c) for (d,c) in test_reviews ]\n",
    "classifier = nltk.NaiveBayesClassifier.train(train_featureset)\n",
    "print(nltk.classify.accuracy(classifier, test_featureset))\n",
    "classifier.show_most_informative_features(15)                             # 0.7284   better than AFINN "
   ]
  },
  {
   "cell_type": "code",
   "execution_count": null,
   "metadata": {},
   "outputs": [],
   "source": []
  }
 ],
 "metadata": {
  "anaconda-cloud": {},
  "kernelspec": {
   "display_name": "Python 3",
   "language": "python",
   "name": "python3"
  },
  "language_info": {
   "codemirror_mode": {
    "name": "ipython",
    "version": 3
   },
   "file_extension": ".py",
   "mimetype": "text/x-python",
   "name": "python",
   "nbconvert_exporter": "python",
   "pygments_lexer": "ipython3",
   "version": "3.7.4"
  }
 },
 "nbformat": 4,
 "nbformat_minor": 1
}
