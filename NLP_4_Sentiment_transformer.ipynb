{
 "cells": [
  {
   "cell_type": "markdown",
   "metadata": {},
   "source": [
    "## Introduction to NLP   at Karakun             Part 4    \n",
    "\n",
    "# Sentiment analysis with Transformers\n",
    "https://medium.com/atheros/text-classification-with-transformers-in-tensorflow-2-bert-2f4f16eff5ad"
   ]
  },
  {
   "cell_type": "code",
   "execution_count": 1,
   "metadata": {},
   "outputs": [],
   "source": [
    "#!pip install transformers"
   ]
  },
  {
   "cell_type": "code",
   "execution_count": 2,
   "metadata": {
    "scrolled": true
   },
   "outputs": [],
   "source": [
    "## install ipywidgets for displaying progress bar: https://ipywidgets.readthedocs.io/en/stable/user_install.html\n",
    "#!pip install ipywidgets\n",
    "#!pip install transformers\n",
    "#!jupyter nbextension enable --py widgetsnbextension"
   ]
  },
  {
   "cell_type": "code",
   "execution_count": 16,
   "metadata": {},
   "outputs": [],
   "source": [
    "import tensorflow as tf\n",
    "from tensorflow.keras.callbacks import EarlyStopping\n",
    "\n",
    "from transformers import BertTokenizer as Tokenzier, TFBertForSequenceClassification as Classification\n",
    "# from transformers import DistilBertTokenizer as Tokenizer, TFDistilBertForSequenceClassification as Classification\n",
    "# from transformers import RobertaTokenizer as Tokenzier, TFRobertaForSequenceClassification as Classification\n",
    "\n",
    "from sklearn.model_selection import train_test_split\n",
    "\n",
    "import random\n",
    "random.seed(0)"
   ]
  },
  {
   "cell_type": "code",
   "execution_count": 17,
   "metadata": {},
   "outputs": [],
   "source": [
    "# see https://huggingface.co/transformers/pretrained_models.html\n",
    "model_name = 'bert-base-uncased'\n",
    "# model_name = 'distilbert-base-uncased'\n",
    "# model_name = 'roberta-base'"
   ]
  },
  {
   "cell_type": "markdown",
   "metadata": {},
   "source": [
    "# Load data"
   ]
  },
  {
   "cell_type": "code",
   "execution_count": 18,
   "metadata": {},
   "outputs": [],
   "source": [
    "train_input = []\n",
    "test_input  = []\n",
    "\n",
    "with open('./Sentiment-Analysis-Data/IMDb/train-pos.txt','r') as f:\n",
    "    for line in f:\n",
    "        train_input.append((line,1))\n",
    "\n",
    "with open('./Sentiment-Analysis-Data/IMDb/train-neg.txt','r') as f:\n",
    "    for line in f:\n",
    "        train_input.append((line,0))\n",
    "\n",
    "with open('./Sentiment-Analysis-Data/IMDb/test-pos.txt','r') as f:\n",
    "    for line in f:\n",
    "        test_input.append((line,1))\n",
    "\n",
    "with open('./Sentiment-Analysis-Data/IMDb/test-neg.txt','r') as f:\n",
    "    for line in f:\n",
    "        test_input.append((line,0))\n",
    "\n",
    "random.shuffle(train_input)\n",
    "random.shuffle(test_input)"
   ]
  },
  {
   "cell_type": "code",
   "execution_count": 19,
   "metadata": {},
   "outputs": [
    {
     "name": "stdout",
     "output_type": "stream",
     "text": [
      "25000 12500 12500\n"
     ]
    }
   ],
   "source": [
    "N_test= int(len(test_input)/2)\n",
    "\n",
    "eval_input = test_input[:N_test]\n",
    "test_input = test_input[N_test:]\n",
    "\n",
    "print(len(train_input),len(test_input),len(eval_input))"
   ]
  },
  {
   "cell_type": "markdown",
   "metadata": {},
   "source": [
    "# Prepare data"
   ]
  },
  {
   "cell_type": "code",
   "execution_count": 20,
   "metadata": {},
   "outputs": [
    {
     "data": {
      "application/vnd.jupyter.widget-view+json": {
       "model_id": "8f294ec4a3a54b45af63dd29d183e67a",
       "version_major": 2,
       "version_minor": 0
      },
      "text/plain": [
       "HBox(children=(FloatProgress(value=0.0, description='Downloading', max=231508.0, style=ProgressStyle(descripti…"
      ]
     },
     "metadata": {},
     "output_type": "display_data"
    },
    {
     "name": "stdout",
     "output_type": "stream",
     "text": [
      "\n"
     ]
    }
   ],
   "source": [
    "tokenizer = Tokenizer.from_pretrained(model_name, do_lower_case=True)\n",
    "max_length = 512\n",
    "\n",
    "def convert_example_to_feature(review):\n",
    "    return tokenizer.encode_plus(\n",
    "        review,                      \n",
    "        add_special_tokens = True,    # add [CLS], [SEP]\n",
    "        truncation=True,\n",
    "        max_length = max_length,      # max length of the text that can go to BERT\n",
    "        pad_to_max_length = True,     # add [PAD] tokens\n",
    "        return_attention_mask = True, # add attention mask to not focus on pad tokens\n",
    "    )\n",
    "\n",
    "# map to the expected input to TFBertForSequenceClassification, see here \n",
    "def map_example_to_dict(input_ids, attention_masks, label):\n",
    "    return {\n",
    "      'input_ids': input_ids,\n",
    "      'attention_mask': attention_masks,\n",
    "    }, label\n",
    "\n",
    "def encode_examples(ds):\n",
    "    # prepare list, so that we can build up final TensorFlow dataset from slices.\n",
    "    input_ids_list = []\n",
    "    attention_mask_list = []\n",
    "    label_list = []\n",
    "\n",
    "    for review, label in ds:\n",
    "        bert_input = convert_example_to_feature(review)\n",
    "\n",
    "        input_ids_list.append(bert_input['input_ids'])\n",
    "        attention_mask_list.append(bert_input['attention_mask'])\n",
    "        label_list.append([label])\n",
    "        \n",
    "    return tf.data.Dataset.from_tensor_slices((input_ids_list, attention_mask_list, label_list)).map(map_example_to_dict)"
   ]
  },
  {
   "cell_type": "code",
   "execution_count": 21,
   "metadata": {},
   "outputs": [],
   "source": [
    "batch_size = 8\n",
    "\n",
    "ds_train_encoded = encode_examples(train_input).shuffle(len(train_input)).batch(batch_size)\n",
    "ds_eval_encoded  = encode_examples(eval_input).batch(batch_size)"
   ]
  },
  {
   "cell_type": "markdown",
   "metadata": {},
   "source": [
    "# Train model"
   ]
  },
  {
   "cell_type": "code",
   "execution_count": 22,
   "metadata": {},
   "outputs": [
    {
     "data": {
      "application/vnd.jupyter.widget-view+json": {
       "model_id": "ccbbcc41cfc843009cd3eb368478ad1d",
       "version_major": 2,
       "version_minor": 0
      },
      "text/plain": [
       "HBox(children=(FloatProgress(value=0.0, description='Downloading', max=433.0, style=ProgressStyle(description_…"
      ]
     },
     "metadata": {},
     "output_type": "display_data"
    },
    {
     "name": "stdout",
     "output_type": "stream",
     "text": [
      "\n"
     ]
    },
    {
     "data": {
      "application/vnd.jupyter.widget-view+json": {
       "model_id": "5b7e9ecf77df4ac8b3c756d23be079ea",
       "version_major": 2,
       "version_minor": 0
      },
      "text/plain": [
       "HBox(children=(FloatProgress(value=0.0, description='Downloading', max=536063208.0, style=ProgressStyle(descri…"
      ]
     },
     "metadata": {},
     "output_type": "display_data"
    },
    {
     "name": "stdout",
     "output_type": "stream",
     "text": [
      "\n"
     ]
    },
    {
     "name": "stderr",
     "output_type": "stream",
     "text": [
      "Some weights of the model checkpoint at bert-base-uncased were not used when initializing TFBertForSequenceClassification: ['nsp___cls', 'mlm___cls']\n",
      "- This IS expected if you are initializing TFBertForSequenceClassification from the checkpoint of a model trained on another task or with another architecture (e.g. initializing a BertForSequenceClassification model from a BertForPretraining model).\n",
      "- This IS NOT expected if you are initializing TFBertForSequenceClassification from the checkpoint of a model that you expect to be exactly identical (initializing a BertForSequenceClassification model from a BertForSequenceClassification model).\n",
      "Some weights of TFBertForSequenceClassification were not initialized from the model checkpoint at bert-base-uncased and are newly initialized: ['dropout_37', 'classifier']\n",
      "You should probably TRAIN this model on a down-stream task to be able to use it for predictions and inference.\n"
     ]
    }
   ],
   "source": [
    "# model initialization\n",
    "\n",
    "model = Classification.from_pretrained(model_name)\n",
    "# model = Classification.from_pretrained(\"/Users/christianr/Temp/Bert.h5\")"
   ]
  },
  {
   "cell_type": "code",
   "execution_count": 23,
   "metadata": {},
   "outputs": [],
   "source": [
    "# choosing Adam optimizer\n",
    "# optimizer = tf.keras.optimizers.Adam(learning_rate=2e-5, epsilon=1e-08)\n",
    "optimizer = tf.keras.optimizers.Adam(learning_rate=2e-5)\n",
    "\n",
    "# we do not have one-hot vectors, we can use sparce categorical cross entropy and accuracy\n",
    "loss   = tf.keras.losses.SparseCategoricalCrossentropy(from_logits=True)\n",
    "metric = tf.keras.metrics.SparseCategoricalAccuracy('accuracy')\n",
    "\n",
    "model.compile(optimizer=optimizer, loss=loss, metrics=[metric])"
   ]
  },
  {
   "cell_type": "code",
   "execution_count": null,
   "metadata": {},
   "outputs": [
    {
     "name": "stdout",
     "output_type": "stream",
     "text": [
      "Epoch 1/2\n",
      " 553/3125 [====>.........................] - ETA: 13:24:59 - loss: 0.3412 - accuracy: 0.8483"
     ]
    }
   ],
   "source": [
    "history = model.fit(ds_train_encoded, epochs=2, validation_data=ds_eval_encoded)"
   ]
  },
  {
   "cell_type": "code",
   "execution_count": 10,
   "metadata": {},
   "outputs": [
    {
     "name": "stderr",
     "output_type": "stream",
     "text": [
      "I0811 09:10:15.989963  3416 configuration_utils.py:142] Configuration saved in C:\\AAA_i4Ds\\karakun\\models\\DistilBert.h5\\config.json\n",
      "I0811 09:10:16.594266  3416 modeling_tf_utils.py:330] Model weights saved in C:\\AAA_i4Ds\\karakun\\models\\DistilBert.h5\\tf_model.h5\n"
     ]
    }
   ],
   "source": [
    "model.save_pretrained(\"/Users/christianr/Temp/Bert.h5\")"
   ]
  },
  {
   "cell_type": "markdown",
   "metadata": {},
   "source": [
    "# Predict Test set"
   ]
  },
  {
   "cell_type": "code",
   "execution_count": 11,
   "metadata": {},
   "outputs": [],
   "source": [
    "from sklearn.metrics import accuracy_score\n",
    "import numpy as np"
   ]
  },
  {
   "cell_type": "code",
   "execution_count": 12,
   "metadata": {},
   "outputs": [],
   "source": [
    "ds_test_encoded = encode_examples(test_input).batch(batch_size)\n",
    "true_labels = [label for text, label in test_input]"
   ]
  },
  {
   "cell_type": "code",
   "execution_count": 13,
   "metadata": {},
   "outputs": [],
   "source": [
    "predictions = model.predict(ds_test_encoded)"
   ]
  },
  {
   "cell_type": "code",
   "execution_count": 14,
   "metadata": {},
   "outputs": [
    {
     "data": {
      "text/plain": [
       "array([[ 2.3694243 , -2.523152  ],\n",
       "       [ 0.99449015, -1.1562936 ],\n",
       "       [-1.8344041 ,  1.4256612 ],\n",
       "       [ 1.9844244 , -2.1433427 ],\n",
       "       [ 0.82688046, -0.9694176 ]], dtype=float32)"
      ]
     },
     "execution_count": 14,
     "metadata": {},
     "output_type": "execute_result"
    }
   ],
   "source": [
    "predictions[:5]"
   ]
  },
  {
   "cell_type": "code",
   "execution_count": 15,
   "metadata": {},
   "outputs": [],
   "source": [
    "pred_labels = np.argmax(predictions, axis=1)"
   ]
  },
  {
   "cell_type": "code",
   "execution_count": 16,
   "metadata": {},
   "outputs": [
    {
     "data": {
      "text/plain": [
       "array([0, 0, 1, 0, 0], dtype=int64)"
      ]
     },
     "execution_count": 16,
     "metadata": {},
     "output_type": "execute_result"
    }
   ],
   "source": [
    "pred_labels[:5]"
   ]
  },
  {
   "cell_type": "code",
   "execution_count": 17,
   "metadata": {},
   "outputs": [
    {
     "data": {
      "text/plain": [
       "0.92256"
      ]
     },
     "execution_count": 17,
     "metadata": {},
     "output_type": "execute_result"
    }
   ],
   "source": [
    "accuracy_score(true_labels, pred_labels) # for 2 epochs and batch_size = 8 :\n",
    "                                         # 0.92804 for BERT /  0.9225 for DistilBERT / 0.9268 for RoBERTa"
   ]
  },
  {
   "cell_type": "code",
   "execution_count": 18,
   "metadata": {},
   "outputs": [
    {
     "data": {
      "text/plain": [
       "array([[5789,  458],\n",
       "       [ 510, 5743]], dtype=int64)"
      ]
     },
     "execution_count": 18,
     "metadata": {},
     "output_type": "execute_result"
    }
   ],
   "source": [
    "from sklearn.metrics import confusion_matrix\n",
    "\n",
    "confusion_matrix(true_labels, pred_labels)"
   ]
  }
 ],
 "metadata": {
  "kernelspec": {
   "display_name": "Python 3",
   "language": "python",
   "name": "python3"
  },
  "language_info": {
   "codemirror_mode": {
    "name": "ipython",
    "version": 3
   },
   "file_extension": ".py",
   "mimetype": "text/x-python",
   "name": "python",
   "nbconvert_exporter": "python",
   "pygments_lexer": "ipython3",
   "version": "3.7.4"
  }
 },
 "nbformat": 4,
 "nbformat_minor": 4
}
