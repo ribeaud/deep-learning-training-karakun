{
 "cells": [
  {
   "cell_type": "markdown",
   "metadata": {},
   "source": [
    "# Introduction to NLP at Karakun\n",
    "## Part 3 - LSTM with Tensorflow"
   ]
  },
  {
   "cell_type": "markdown",
   "metadata": {},
   "source": [
    "As an example task throughout this training we use a dataset for sentiment analysis. This dataset contains reviews from the movie plattform **IMDb**. These reviews are labeled as **positive** or **negative**. Our goal for the following tasks is to predict the sentiment of a given review."
   ]
  },
  {
   "cell_type": "markdown",
   "metadata": {},
   "source": [
    "Work through this notebook from top to bottom and execute the cells with code. A lot of the code is already prepared. Cells in this notebook which have to be completed with some code snippets are marked with: \n",
    "\n",
    "**<font color='red'>!! Call for action !!</font>**."
   ]
  },
  {
   "cell_type": "markdown",
   "metadata": {},
   "source": [
    "### Imports"
   ]
  },
  {
   "cell_type": "code",
   "execution_count": 2,
   "metadata": {},
   "outputs": [],
   "source": [
    "import random\n",
    "import nltk\n",
    "import matplotlib.pyplot as plt\n",
    "import matplotlib.patheffects as path_effects\n",
    "import pandas\n",
    "import numpy as np\n",
    "from collections import Counter\n",
    "import itertools\n",
    "from collections import defaultdict\n",
    "from nltk.corpus import stopwords\n",
    "from nltk.stem import PorterStemmer\n",
    "from nltk.stem import WordNetLemmatizer\n",
    "import tensorflow as tf\n",
    "from   tensorflow import keras   \n",
    "\n",
    "%matplotlib inline\n",
    "%config InlineBackend.figure_format='retina'\n",
    "\n",
    "# We set a random seed to have reproducible experiments\n",
    "random.seed(0)"
   ]
  },
  {
   "cell_type": "code",
   "execution_count": 3,
   "metadata": {},
   "outputs": [
    {
     "name": "stdout",
     "output_type": "stream",
     "text": [
      "2.1.0\n"
     ]
    }
   ],
   "source": [
    "print(tf.__version__)"
   ]
  },
  {
   "cell_type": "markdown",
   "metadata": {},
   "source": [
    "### Define data paths"
   ]
  },
  {
   "cell_type": "code",
   "execution_count": 4,
   "metadata": {},
   "outputs": [],
   "source": [
    "# Train\n",
    "train_pos_path = './Sentiment-Analysis-Data/imdb/train-pos.txt'\n",
    "train_neg_path = './Sentiment-Analysis-Data/imdb/train-neg.txt'\n",
    "\n",
    "# Test\n",
    "test_pos_path = './Sentiment-Analysis-Data/imdb/test-pos.txt'\n",
    "test_neg_path = './Sentiment-Analysis-Data/imdb/test-neg.txt'"
   ]
  },
  {
   "cell_type": "markdown",
   "metadata": {},
   "source": [
    "### Prepare the data"
   ]
  },
  {
   "cell_type": "markdown",
   "metadata": {},
   "source": [
    "Here we read the reviews from textfiles. All reviews are written into a list as a **tuple** together with their sentiment. This is the same procedure as in exercise 1."
   ]
  },
  {
   "cell_type": "code",
   "execution_count": 5,
   "metadata": {},
   "outputs": [],
   "source": [
    "def read_split_reviews_from_file(file_path, sentiment):\n",
    "    reviews = []\n",
    "    \n",
    "    with open(file_path, 'r') as f:\n",
    "        for line in f:\n",
    "            # split text into single words and remove words with length smaller than 2\n",
    "            review_splitted = [e.lower() for e in line.split() if len(e) >= 2]\n",
    "            reviews.append((review_splitted, sentiment))\n",
    "            \n",
    "    return reviews"
   ]
  },
  {
   "cell_type": "markdown",
   "metadata": {},
   "source": [
    "For Tensorflow we changed our string labels (`pos` and `neg`) to numbers: `0` for negative and `1` for positive."
   ]
  },
  {
   "cell_type": "code",
   "execution_count": 6,
   "metadata": {},
   "outputs": [],
   "source": [
    "# Train\n",
    "train_reviews_pos = read_split_reviews_from_file(train_pos_path, 1)\n",
    "train_reviews_neg = read_split_reviews_from_file(train_neg_path, 0)\n",
    "\n",
    "# Test\n",
    "test_reviews_pos = read_split_reviews_from_file(test_pos_path, 1)\n",
    "test_reviews_neg = read_split_reviews_from_file(test_neg_path, 0)"
   ]
  },
  {
   "cell_type": "code",
   "execution_count": 7,
   "metadata": {},
   "outputs": [],
   "source": [
    "# Concatenate positive and negative reviews\n",
    "train_reviews = train_reviews_pos + train_reviews_neg\n",
    "test_reviews = test_reviews_pos + test_reviews_neg"
   ]
  },
  {
   "cell_type": "code",
   "execution_count": 8,
   "metadata": {},
   "outputs": [],
   "source": [
    "# Shuffle the train and test datasets\n",
    "random.shuffle(train_reviews)\n",
    "random.shuffle(test_reviews)"
   ]
  },
  {
   "cell_type": "code",
   "execution_count": 9,
   "metadata": {},
   "outputs": [],
   "source": [
    "N_test= int(len(test_reviews)/2)\n",
    "\n",
    "eval_reviews = test_reviews[:N_test]\n",
    "test_reviews = test_reviews[N_test:]"
   ]
  },
  {
   "cell_type": "code",
   "execution_count": 10,
   "metadata": {},
   "outputs": [
    {
     "name": "stdout",
     "output_type": "stream",
     "text": [
      "Train size:\t25000 \n",
      "Eval size:\t12500 \n",
      "Test size:\t12500\n"
     ]
    }
   ],
   "source": [
    "# Check sizes of dataset\n",
    "print(f'Train size:\\t{len(train_reviews)} \\nEval size:\\t{len(eval_reviews)} \\nTest size:\\t{len(test_reviews)}')"
   ]
  },
  {
   "cell_type": "markdown",
   "metadata": {},
   "source": [
    "For the Tensorflow model we need to further split the tuples into input (`X`) and output (`y`) variables"
   ]
  },
  {
   "cell_type": "code",
   "execution_count": 11,
   "metadata": {},
   "outputs": [],
   "source": [
    "train_X = [review for (review, sent) in train_reviews]\n",
    "train_y = [sent for (review, sent) in train_reviews]\n",
    "\n",
    "eval_X = [review for (review, sent) in eval_reviews]\n",
    "eval_y = [sent for (review, sent) in eval_reviews]\n",
    "\n",
    "test_X = [review for (review, sent) in test_reviews]\n",
    "test_y = [sent for (review, sent) in test_reviews]"
   ]
  },
  {
   "cell_type": "code",
   "execution_count": 12,
   "metadata": {},
   "outputs": [
    {
     "name": "stdout",
     "output_type": "stream",
     "text": [
      "> Input:\n",
      "================\n",
      "['judy', 'davis', 'shows', 'us', 'here', 'why', 'she', 'is', 'one', 'of', 'australia', 'most', 'respected', 'and', 'loved', 'actors', 'her', 'portrayal', 'of', 'lonely', 'directionless', 'nomad', 'is', 'first', 'rate', 'teenaged', 'claudia', 'karvan', 'also', 'gives', 'us', 'glimpse', 'of', 'what', 'would', 'make', 'her', 'one', 'of', 'this', 'country', 'most', 'popular', 'actors', 'in', 'years', 'to', 'come', 'with', 'future', 'roles', 'in', 'the', 'big', 'steal', 'the', 'heartbreak', 'kid', 'dating', 'the', 'enemy', 'risk', 'and', 'the', 'acclaimed', 'tv', 'series', 'the', 'secret', 'life', 'of', 'us', 'incidentally', 'karvan', 'as', 'child', 'was', 'young', 'girl', 'whose', 'toy', 'panda', 'was', 'stolen', 'outside', 'chemist', 'shop', 'in', 'the', 'drama', 'going', 'down', 'with', 'tracey', 'mann', 'if', 'this', 'films', 'comes', 'your', 'way', 'make', 'sure', 'you', 'see', 'it', 'rating', 'see', 'also', 'hotel', 'sorrento', 'radiance', 'vacant', 'possession', 'lantana'] \n",
      "\n",
      "> Output:\n",
      "================\n",
      "1\n"
     ]
    }
   ],
   "source": [
    "# Check single sample\n",
    "INDEX = 230\n",
    "print(f'> Input:\\n================\\n{train_X[INDEX]} \\n\\n> Output:\\n================\\n{train_y[INDEX]}')"
   ]
  },
  {
   "cell_type": "markdown",
   "metadata": {},
   "source": [
    "Build a vocabulary with our training data."
   ]
  },
  {
   "cell_type": "code",
   "execution_count": 13,
   "metadata": {},
   "outputs": [
    {
     "name": "stdout",
     "output_type": "stream",
     "text": [
      "The length of the vocabulary is:  73967\n"
     ]
    }
   ],
   "source": [
    "vocab = defaultdict(lambda: 1)\n",
    "vocab['<PAD>'] = 0\n",
    "\n",
    "for idx in range(len(train_X)):\n",
    "    for word in train_X[idx]:\n",
    "        if word not in vocab: \n",
    "            vocab[word] = len(vocab)+1\n",
    "            \n",
    "print('The length of the vocabulary is: ', len(vocab))\n",
    "\n",
    "vocab_size = len(vocab) + 1"
   ]
  },
  {
   "cell_type": "code",
   "execution_count": 14,
   "metadata": {},
   "outputs": [
    {
     "name": "stdout",
     "output_type": "stream",
     "text": [
      "19\n",
      "0\n",
      "1\n"
     ]
    }
   ],
   "source": [
    "print(vocab['the'])\n",
    "print(vocab['<PAD>'])\n",
    "print(vocab['Karakun'])   # unknown token (not in dictionary)"
   ]
  },
  {
   "cell_type": "markdown",
   "metadata": {},
   "source": [
    "Transform the word lists to integer lists:"
   ]
  },
  {
   "cell_type": "code",
   "execution_count": 15,
   "metadata": {},
   "outputs": [],
   "source": [
    "for i in range(len(train_X)):\n",
    "    train_X[i] = [vocab[word] for word in train_X[i]]\n",
    "\n",
    "for i in range(len(eval_X)):\n",
    "    eval_X[i] = [vocab[word] for word in eval_X[i]]\n",
    "    \n",
    "for i in range(len(test_X)):\n",
    "    test_X[i] = [vocab[word] for word in test_X[i]]"
   ]
  },
  {
   "cell_type": "markdown",
   "metadata": {},
   "source": [
    "The dataset is now preprocessed: each example is an array of integers representing the words of the movie review.\n",
    "\n",
    "Each label is an integer value of either 0 or 1, where 0 is a negative review, and 1 is a positive review.\n",
    "\n",
    "The text of reviews have been converted to integers, where each integer represents a specific word in a dictionary. Here's what the one review looks like:"
   ]
  },
  {
   "cell_type": "code",
   "execution_count": 16,
   "metadata": {},
   "outputs": [
    {
     "name": "stdout",
     "output_type": "stream",
     "text": [
      "> Input:\n",
      "================\n",
      "[7722, 2035, 1325, 1405, 850, 38, 406, 34, 123, 4, 7723, 334, 4913, 7, 954, 495, 391, 2278, 4, 3751, 7724, 7725, 34, 377, 4938, 7726, 7727, 7728, 577, 1221, 1405, 4368, 4, 432, 11, 128, 391, 123, 4, 16, 1377, 334, 4898, 495, 111, 707, 26, 1329, 315, 658, 631, 111, 19, 2, 1647, 19, 7729, 621, 7730, 19, 1162, 1241, 7, 19, 4663, 426, 461, 19, 3476, 440, 4, 1405, 7731, 7728, 78, 3164, 222, 911, 501, 6467, 7732, 7733, 222, 5447, 2687, 7734, 7735, 111, 19, 384, 708, 261, 315, 7736, 7737, 161, 16, 354, 871, 470, 198, 128, 1651, 80, 124, 22, 331, 124, 577, 5106, 7738, 7739, 6288, 6336, 7740] \n",
      "\n",
      "> Output (label):\n",
      "================\n",
      "1\n"
     ]
    }
   ],
   "source": [
    "# Check single sample after preprocessing\n",
    "INDEX = 230\n",
    "print(f'> Input:\\n================\\n{train_X[INDEX]} \\n\\n> Output (label):\\n================\\n{train_y[INDEX]}')"
   ]
  },
  {
   "cell_type": "markdown",
   "metadata": {},
   "source": [
    "We can also reverse this transformation to get back text:"
   ]
  },
  {
   "cell_type": "code",
   "execution_count": 17,
   "metadata": {},
   "outputs": [],
   "source": [
    "#reverse_word_index = dict([(value, key) for (key, value) in word_index.items()])\n",
    "reverse_word_index = dict([(value, key) for (key, value) in vocab.items()])\n",
    "\n",
    "#  Helper function to decode reviews:\n",
    "def decode_review(text):\n",
    "    return ' '.join([reverse_word_index.get(i, '?') for i in text])"
   ]
  },
  {
   "cell_type": "code",
   "execution_count": 18,
   "metadata": {},
   "outputs": [
    {
     "name": "stdout",
     "output_type": "stream",
     "text": [
      "Encoded:\t[7722, 2035, 1325, 1405, 850, 38]\n",
      "Decoded:\tjudy davis shows us here why\n"
     ]
    }
   ],
   "source": [
    "encoded_text = train_X[230][:6]\n",
    "\n",
    "print(f'Encoded:\\t{encoded_text}')\n",
    "\n",
    "decoded_text = decode_review(encoded_text)\n",
    "\n",
    "print(f'Decoded:\\t{decoded_text}')"
   ]
  },
  {
   "cell_type": "markdown",
   "metadata": {},
   "source": [
    "### Prepare the data:\n",
    "\n",
    "The reviews (arrays of integer) must be converted to tensors before fed into the neural network. <br>\n",
    "This conversion can be done in two ways:\n",
    "\n",
    "-  **One-hot-encode** of the arrays to convert them into vectors of 0s and 1s. <br> This approach is memory intensive, though, requiring a **num_words * num_reviews** size matrix. \n",
    "\n",
    "\n",
    "-  Alternatively, we can **pad the arrays** so they all have the same length, then create an integer tensor of shape **max_length * num_reviews**. We can use an embedding layer capable of handling this shape as the first layer in our network.\n",
    "\n",
    "In this tutorial, we will use the second approach.\n",
    "\n",
    "Since the movie reviews must be the same length, we will use the **pad_sequences** function to standardize the lengths:"
   ]
  },
  {
   "cell_type": "code",
   "execution_count": 19,
   "metadata": {},
   "outputs": [
    {
     "name": "stdout",
     "output_type": "stream",
     "text": [
      "0\n"
     ]
    }
   ],
   "source": [
    "print(vocab[\"<PAD>\"])"
   ]
  },
  {
   "cell_type": "code",
   "execution_count": 20,
   "metadata": {},
   "outputs": [],
   "source": [
    "train_X = keras.preprocessing.sequence.pad_sequences(train_X,\n",
    "                                                        value=vocab[\"<PAD>\"],\n",
    "                                                        padding='post',\n",
    "                                                        maxlen=256)\n",
    "\n",
    "eval_X = keras.preprocessing.sequence.pad_sequences(eval_X,\n",
    "                                                       value=vocab[\"<PAD>\"],\n",
    "                                                       padding='post',\n",
    "                                                       maxlen=256)\n",
    "\n",
    "test_X = keras.preprocessing.sequence.pad_sequences(test_X,\n",
    "                                                       value=vocab[\"<PAD>\"],\n",
    "                                                       padding='post',\n",
    "                                                       maxlen=256)"
   ]
  },
  {
   "cell_type": "markdown",
   "metadata": {},
   "source": [
    "Check if this worked out:"
   ]
  },
  {
   "cell_type": "code",
   "execution_count": 21,
   "metadata": {},
   "outputs": [
    {
     "name": "stdout",
     "output_type": "stream",
     "text": [
      "[7722 2035 1325 1405  850   38  406   34  123    4 7723  334 4913    7\n",
      "  954  495  391 2278    4 3751 7724 7725   34  377 4938 7726 7727 7728\n",
      "  577 1221 1405 4368    4  432   11  128  391  123    4   16 1377  334\n",
      " 4898  495  111  707   26 1329  315  658  631  111   19    2 1647   19\n",
      " 7729  621 7730   19 1162 1241    7   19 4663  426  461   19 3476  440\n",
      "    4 1405 7731 7728   78 3164  222  911  501 6467 7732 7733  222 5447\n",
      " 2687 7734 7735  111   19  384  708  261  315 7736 7737  161   16  354\n",
      "  871  470  198  128 1651   80  124   22  331  124  577 5106 7738 7739\n",
      " 6288 6336 7740    0    0    0    0    0    0    0    0    0    0    0\n",
      "    0    0    0    0    0    0    0    0    0    0    0    0    0    0\n",
      "    0    0    0    0    0    0    0    0    0    0    0    0    0    0\n",
      "    0    0    0    0    0    0    0    0    0    0    0    0    0    0\n",
      "    0    0    0    0    0    0    0    0    0    0    0    0    0    0\n",
      "    0    0    0    0    0    0    0    0    0    0    0    0    0    0\n",
      "    0    0    0    0    0    0    0    0    0    0    0    0    0    0\n",
      "    0    0    0    0    0    0    0    0    0    0    0    0    0    0\n",
      "    0    0    0    0    0    0    0    0    0    0    0    0    0    0\n",
      "    0    0    0    0    0    0    0    0    0    0    0    0    0    0\n",
      "    0    0    0    0]\n",
      "judy davis shows us here why she is one of australia most respected and loved actors her portrayal of lonely directionless nomad is first rate teenaged claudia karvan also gives us glimpse of what would make her one of this country most popular actors in years to come with future roles in the big steal the heartbreak kid dating the enemy risk and the acclaimed tv series the secret life of us incidentally karvan as child was young girl whose toy panda was stolen outside chemist shop in the drama going down with tracey mann if this films comes your way make sure you see it rating see also hotel sorrento radiance vacant possession lantana <PAD> <PAD> <PAD> <PAD> <PAD> <PAD> <PAD> <PAD> <PAD> <PAD> <PAD> <PAD> <PAD> <PAD> <PAD> <PAD> <PAD> <PAD> <PAD> <PAD> <PAD> <PAD> <PAD> <PAD> <PAD> <PAD> <PAD> <PAD> <PAD> <PAD> <PAD> <PAD> <PAD> <PAD> <PAD> <PAD> <PAD> <PAD> <PAD> <PAD> <PAD> <PAD> <PAD> <PAD> <PAD> <PAD> <PAD> <PAD> <PAD> <PAD> <PAD> <PAD> <PAD> <PAD> <PAD> <PAD> <PAD> <PAD> <PAD> <PAD> <PAD> <PAD> <PAD> <PAD> <PAD> <PAD> <PAD> <PAD> <PAD> <PAD> <PAD> <PAD> <PAD> <PAD> <PAD> <PAD> <PAD> <PAD> <PAD> <PAD> <PAD> <PAD> <PAD> <PAD> <PAD> <PAD> <PAD> <PAD> <PAD> <PAD> <PAD> <PAD> <PAD> <PAD> <PAD> <PAD> <PAD> <PAD> <PAD> <PAD> <PAD> <PAD> <PAD> <PAD> <PAD> <PAD> <PAD> <PAD> <PAD> <PAD> <PAD> <PAD> <PAD> <PAD> <PAD> <PAD> <PAD> <PAD> <PAD> <PAD> <PAD> <PAD> <PAD> <PAD> <PAD> <PAD> <PAD> <PAD> <PAD> <PAD> <PAD> <PAD> <PAD> <PAD> <PAD> <PAD> <PAD> <PAD> <PAD> <PAD> <PAD>\n"
     ]
    }
   ],
   "source": [
    "INDEX = 230\n",
    "print(train_X[INDEX])\n",
    "print(decode_review(train_X[INDEX]))"
   ]
  },
  {
   "cell_type": "markdown",
   "metadata": {},
   "source": [
    "### Build a first model:\n",
    "\n",
    "The neural network is created by stacking layers — this requires two main architectural decisions:\n",
    "\n",
    "-  How many layers to use in the model ?\n",
    "-  How many hidden units to use for each layer ?\n",
    "\n",
    "In this example, the input data consists of an array of word-indices. The labels to predict are either 0 or 1. <br> Let's build a model for this problem::"
   ]
  },
  {
   "cell_type": "code",
   "execution_count": 93,
   "metadata": {},
   "outputs": [
    {
     "name": "stdout",
     "output_type": "stream",
     "text": [
      "Model: \"sequential_25\"\n",
      "_________________________________________________________________\n",
      "Layer (type)                 Output Shape              Param #   \n",
      "=================================================================\n",
      "embedding_21 (Embedding)     (None, None, 8)           591744    \n",
      "_________________________________________________________________\n",
      "dropout_21 (Dropout)         (None, None, 8)           0         \n",
      "_________________________________________________________________\n",
      "global_average_pooling1d_10  (None, 8)                 0         \n",
      "_________________________________________________________________\n",
      "dense_38 (Dense)             (None, 50)                450       \n",
      "_________________________________________________________________\n",
      "dropout_22 (Dropout)         (None, 50)                0         \n",
      "_________________________________________________________________\n",
      "dense_39 (Dense)             (None, 1)                 51        \n",
      "_________________________________________________________________\n",
      "dense_40 (Dense)             (None, 1)                 2         \n",
      "=================================================================\n",
      "Total params: 592,247\n",
      "Trainable params: 592,247\n",
      "Non-trainable params: 0\n",
      "_________________________________________________________________\n"
     ]
    }
   ],
   "source": [
    "model = keras.Sequential()\n",
    "\n",
    "#model.add(keras.layers.Embedding(vocab_size, 32))\n",
    "#model.add(keras.layers.LSTM(32, return_sequences=True))\n",
    "#model.add(keras.layers.LSTM(16))\n",
    "#model.add(keras.layers.Dense(32, activation='relu'))\n",
    "#model.add(keras.layers.Dropout(0.5))\n",
    "#model.add(keras.layers.Dense(16, activation='relu'))\n",
    "#model.add(keras.layers.Dropout(0.5))\n",
    "\n",
    "model.add(keras.layers.Embedding(vocab_size, 8))\n",
    "model.add(keras.layers.Dropout(0.5))\n",
    "model.add(keras.layers.GlobalAveragePooling1D())\n",
    "model.add(keras.layers.Dense(50, kernel_initializer='glorot_uniform', activation=tf.nn.relu))\n",
    "model.add(keras.layers.Dropout(0.5))\n",
    "model.add(keras.layers.Dense( 1, activation=tf.nn.sigmoid))\n",
    "\n",
    "#model.add(keras.layers.Embedding(vocab_size, 32))\n",
    "#model.add(keras.layers.GlobalAveragePooling1D())\n",
    "#model.add(keras.layers.Dense(64, kernel_initializer='glorot_uniform', activation=tf.nn.relu))\n",
    "#model.add(keras.layers.Dropout(0.5))\n",
    "model.add(keras.layers.Dense(1, activation=tf.nn.sigmoid))\n",
    "model.summary()"
   ]
  },
  {
   "cell_type": "markdown",
   "metadata": {},
   "source": [
    "The layers are stacked sequentially to build the classifier:\n",
    "\n",
    "1)  The first layer is an Embedding layer. This layer takes the integer-encoded vocabulary and looks up the embedding vector for each word-index. These vectors are learned as the model trains. The vectors add a dimension to the output array.\n",
    "<br> The resulting dimensions are: **(batch, sequence, embedding)**.\n",
    "\n",
    "2)  Next, a **GlobalAveragePooling1D** layer returns a fixed-length output vector for each example by averaging over the sequence dimension. This allows the model can handle input of variable length, in the simplest way possible.\n",
    "\n",
    "3)  This fixed-length output vector is piped through a fully-connected (Dense) layer with 20 hidden units.\n",
    "\n",
    "4)  The last layer is densely connected with a single output node. Using the sigmoid activation function, this value is a float between 0 and 1, representing a probability, or confidence level."
   ]
  },
  {
   "cell_type": "markdown",
   "metadata": {},
   "source": [
    "### Loss function and optimizer\n",
    "\n",
    "A model needs a loss function and an optimizer for training. <br> \n",
    "Since this is a binary classification problem and the model outputs of a probability (sigmoid activation), we'll use the **binary_crossentropy** loss function.\n",
    "\n",
    "Alternatively we could use **mean_squared_error**, but in general, binary_crossentropy is superior for probabilities — since it measures the \"distance\" between probability distributions (in our case between the ground-truth and the predictions).\n",
    "\n",
    "Now, we configure the model to use an (Adam)optimizer and the (binary_crossentropy) loss function:"
   ]
  },
  {
   "cell_type": "code",
   "execution_count": 81,
   "metadata": {},
   "outputs": [],
   "source": [
    "model.compile(optimizer=tf.optimizers.Adam() , loss='binary_crossentropy', metrics=['accuracy'])"
   ]
  },
  {
   "cell_type": "markdown",
   "metadata": {},
   "source": [
    "### Train the model\n",
    "\n",
    "We train the model for 40 epochs in mini-batches of 512 samples. <br>\n",
    "This is 40 iterations over all samples in the **train_data** and **train_labels** tensors. <br>\n",
    "While training, monitor the model's loss and accuracy on the 10,000 samples from the validation set:"
   ]
  },
  {
   "cell_type": "code",
   "execution_count": 82,
   "metadata": {},
   "outputs": [
    {
     "name": "stdout",
     "output_type": "stream",
     "text": [
      "Train on 25000 samples, validate on 12500 samples\n",
      "Epoch 1/30\n",
      "25000/25000 [==============================] - 2s 88us/sample - loss: 0.7059 - accuracy: 0.5012 - val_loss: 0.6920 - val_accuracy: 0.4998\n",
      "Epoch 2/30\n",
      "25000/25000 [==============================] - 2s 66us/sample - loss: 0.6901 - accuracy: 0.5339 - val_loss: 0.6877 - val_accuracy: 0.6064\n",
      "Epoch 3/30\n",
      "25000/25000 [==============================] - 2s 66us/sample - loss: 0.6850 - accuracy: 0.5780 - val_loss: 0.6808 - val_accuracy: 0.6449\n",
      "Epoch 4/30\n",
      "25000/25000 [==============================] - 2s 66us/sample - loss: 0.6638 - accuracy: 0.6082 - val_loss: 0.6357 - val_accuracy: 0.6522\n",
      "Epoch 5/30\n",
      "25000/25000 [==============================] - 2s 69us/sample - loss: 0.5910 - accuracy: 0.7329 - val_loss: 0.5574 - val_accuracy: 0.7922\n",
      "Epoch 6/30\n",
      "25000/25000 [==============================] - 2s 66us/sample - loss: 0.5199 - accuracy: 0.8298 - val_loss: 0.5026 - val_accuracy: 0.8466\n",
      "Epoch 7/30\n",
      "25000/25000 [==============================] - 2s 66us/sample - loss: 0.4692 - accuracy: 0.8728 - val_loss: 0.4660 - val_accuracy: 0.8638\n",
      "Epoch 8/30\n",
      "25000/25000 [==============================] - 2s 66us/sample - loss: 0.4325 - accuracy: 0.8900 - val_loss: 0.4407 - val_accuracy: 0.8752\n",
      "Epoch 9/30\n",
      "25000/25000 [==============================] - 2s 67us/sample - loss: 0.4030 - accuracy: 0.9059 - val_loss: 0.4209 - val_accuracy: 0.8779\n",
      "Epoch 10/30\n",
      "25000/25000 [==============================] - 2s 67us/sample - loss: 0.3786 - accuracy: 0.9150 - val_loss: 0.4050 - val_accuracy: 0.8815\n",
      "Epoch 11/30\n",
      "25000/25000 [==============================] - 2s 66us/sample - loss: 0.3574 - accuracy: 0.9208 - val_loss: 0.3928 - val_accuracy: 0.8827\n",
      "Epoch 12/30\n",
      "25000/25000 [==============================] - 2s 66us/sample - loss: 0.3374 - accuracy: 0.9289 - val_loss: 0.3816 - val_accuracy: 0.8862\n",
      "Epoch 13/30\n",
      "25000/25000 [==============================] - 2s 66us/sample - loss: 0.3202 - accuracy: 0.9336 - val_loss: 0.3727 - val_accuracy: 0.8845\n",
      "Epoch 14/30\n",
      "25000/25000 [==============================] - 2s 67us/sample - loss: 0.3026 - accuracy: 0.9407 - val_loss: 0.3631 - val_accuracy: 0.8886\n",
      "Epoch 15/30\n",
      "25000/25000 [==============================] - 2s 68us/sample - loss: 0.2910 - accuracy: 0.9419 - val_loss: 0.3562 - val_accuracy: 0.8888\n",
      "Epoch 16/30\n",
      "25000/25000 [==============================] - 2s 66us/sample - loss: 0.2741 - accuracy: 0.9496 - val_loss: 0.3503 - val_accuracy: 0.8887\n",
      "Epoch 17/30\n",
      "25000/25000 [==============================] - 2s 66us/sample - loss: 0.2627 - accuracy: 0.9522 - val_loss: 0.3485 - val_accuracy: 0.8825\n",
      "Epoch 18/30\n",
      "25000/25000 [==============================] - 2s 66us/sample - loss: 0.2512 - accuracy: 0.9564 - val_loss: 0.3409 - val_accuracy: 0.8879\n",
      "Epoch 19/30\n",
      "25000/25000 [==============================] - 2s 67us/sample - loss: 0.2409 - accuracy: 0.9579 - val_loss: 0.3402 - val_accuracy: 0.8838\n",
      "Epoch 20/30\n",
      "25000/25000 [==============================] - 2s 67us/sample - loss: 0.2285 - accuracy: 0.9620 - val_loss: 0.3357 - val_accuracy: 0.8854\n",
      "Epoch 21/30\n",
      "25000/25000 [==============================] - 2s 66us/sample - loss: 0.2209 - accuracy: 0.9631 - val_loss: 0.3317 - val_accuracy: 0.8862\n",
      "Epoch 22/30\n",
      "25000/25000 [==============================] - 2s 66us/sample - loss: 0.2091 - accuracy: 0.9669 - val_loss: 0.3303 - val_accuracy: 0.8854\n",
      "Epoch 23/30\n",
      "25000/25000 [==============================] - 2s 66us/sample - loss: 0.2023 - accuracy: 0.9675 - val_loss: 0.3281 - val_accuracy: 0.8858\n",
      "Epoch 24/30\n",
      "25000/25000 [==============================] - 2s 68us/sample - loss: 0.1930 - accuracy: 0.9702 - val_loss: 0.3269 - val_accuracy: 0.8846\n",
      "Epoch 25/30\n",
      "25000/25000 [==============================] - 2s 67us/sample - loss: 0.1850 - accuracy: 0.9730 - val_loss: 0.3262 - val_accuracy: 0.8832\n",
      "Epoch 26/30\n",
      "25000/25000 [==============================] - 2s 66us/sample - loss: 0.1802 - accuracy: 0.9726 - val_loss: 0.3254 - val_accuracy: 0.8842\n",
      "Epoch 27/30\n",
      "25000/25000 [==============================] - 2s 67us/sample - loss: 0.1725 - accuracy: 0.9749 - val_loss: 0.3260 - val_accuracy: 0.8842\n",
      "Epoch 28/30\n",
      "25000/25000 [==============================] - 2s 67us/sample - loss: 0.1661 - accuracy: 0.9759 - val_loss: 0.3252 - val_accuracy: 0.8840\n",
      "Epoch 29/30\n",
      "25000/25000 [==============================] - 2s 67us/sample - loss: 0.1601 - accuracy: 0.9770 - val_loss: 0.3261 - val_accuracy: 0.8847\n",
      "Epoch 30/30\n",
      "25000/25000 [==============================] - 2s 66us/sample - loss: 0.1548 - accuracy: 0.9778 - val_loss: 0.3261 - val_accuracy: 0.8843\n"
     ]
    }
   ],
   "source": [
    "history = model.fit(np.array(train_X), np.array(train_y), epochs=30, batch_size=256, validation_data=(np.array(eval_X), np.array(eval_y) ) , verbose=1)"
   ]
  },
  {
   "cell_type": "markdown",
   "metadata": {},
   "source": [
    "#### Create a graph of accuracy and loss over time\n",
    "\n",
    "**model.fit()** returns a history object that contains a dictionary with everything that happened during training:"
   ]
  },
  {
   "cell_type": "code",
   "execution_count": 83,
   "metadata": {},
   "outputs": [
    {
     "data": {
      "text/plain": [
       "dict_keys(['loss', 'accuracy', 'val_loss', 'val_accuracy'])"
      ]
     },
     "execution_count": 83,
     "metadata": {},
     "output_type": "execute_result"
    }
   ],
   "source": [
    "history_dict = history.history\n",
    "history_dict.keys()"
   ]
  },
  {
   "cell_type": "code",
   "execution_count": 84,
   "metadata": {},
   "outputs": [
    {
     "data": {
      "image/png": "[encoded data removed]",
      "text/plain": [
       "<Figure size 864x288 with 1 Axes>"
      ]
     },
     "metadata": {
      "image/png": {
       "height": 277,
       "width": 720
      },
      "needs_background": "light"
     },
     "output_type": "display_data"
    }
   ],
   "source": [
    "acc = history.history['accuracy']\n",
    "val_acc = history.history['val_accuracy']\n",
    "loss = history.history['loss']\n",
    "val_loss = history.history['val_loss']\n",
    "\n",
    "plt.rcParams['figure.figsize'] = (12.0, 4.0)\n",
    "\n",
    "epochs = range(1, len(acc) + 1)\n",
    "\n",
    "plt.plot(epochs,     loss, 'bo', label='Training loss')      # \"bo\" is for \"blue dot\"\n",
    "plt.plot(epochs, val_loss, 'b' , label='Validation loss')    # b is for \"solid blue line\"\n",
    "plt.title('Training and validation loss')\n",
    "plt.xlabel('Epochs')\n",
    "plt.ylabel('Loss')\n",
    "plt.legend()\n",
    "axes = plt.gca()\n",
    "axes.set_ylim([0.0,0.7])\n",
    "\n",
    "plt.show()"
   ]
  },
  {
   "cell_type": "code",
   "execution_count": 85,
   "metadata": {},
   "outputs": [
    {
     "data": {
      "image/png": "[encoded data removed]",
      "text/plain": [
       "<Figure size 864x288 with 1 Axes>"
      ]
     },
     "metadata": {
      "image/png": {
       "height": 277,
       "width": 720
      },
      "needs_background": "light"
     },
     "output_type": "display_data"
    }
   ],
   "source": [
    "acc_values = history_dict['accuracy']\n",
    "val_acc_values = history_dict['val_accuracy']\n",
    "\n",
    "plt.plot(epochs,     acc, 'bo', label='Training acc')\n",
    "plt.plot(epochs, val_acc, 'b' , label='Validation acc')\n",
    "plt.title('Training and validation accuracy')\n",
    "plt.xlabel('Epochs')\n",
    "plt.ylabel('Accuracy')\n",
    "plt.legend()\n",
    "\n",
    "axes = plt.gca()\n",
    "axes.set_ylim([0.5,1])\n",
    "\n",
    "plt.show()"
   ]
  },
  {
   "cell_type": "markdown",
   "metadata": {},
   "source": [
    "The training loss decreases monotonically, but the validation loss has a minimum around 10 epochs. <br>\n",
    "This is an example of overfitting !\n",
    "\n",
    "In this particular case, we could prevent overfitting with **early stopping** the training. "
   ]
  },
  {
   "cell_type": "code",
   "execution_count": 86,
   "metadata": {},
   "outputs": [
    {
     "name": "stdout",
     "output_type": "stream",
     "text": [
      "12500/12500 [==============================] - 0s 22us/sample - loss: 0.3261 - accuracy: 0.8843\n",
      "[0.3260860423183441, 0.88432]\n"
     ]
    }
   ],
   "source": [
    "results = model.evaluate(np.array(eval_X), np.array(eval_y))\n",
    "print(results)"
   ]
  },
  {
   "cell_type": "markdown",
   "metadata": {},
   "source": [
    "## <font color='red'>!! **Start** - Call for action !!</font>"
   ]
  },
  {
   "cell_type": "markdown",
   "metadata": {},
   "source": [
    "We currently should be at a validation accuracy around **~0.864...**. Try to further improve by changing the cell were we defined our `Sequential` model. Try to add more layers, add dropout, change hyperparameters such as the embedding size and check if the model improves..."
   ]
  },
  {
   "cell_type": "markdown",
   "metadata": {},
   "source": [
    "## <font color='red'>!! **End** - Call for action !!</font>"
   ]
  },
  {
   "cell_type": "markdown",
   "metadata": {},
   "source": [
    "### Define some helper functions"
   ]
  },
  {
   "cell_type": "markdown",
   "metadata": {},
   "source": [
    "Plot utility"
   ]
  },
  {
   "cell_type": "code",
   "execution_count": 87,
   "metadata": {},
   "outputs": [],
   "source": [
    "def plot_confusion_matrix(cm,\n",
    "                          target_names,\n",
    "                          title='Confusion matrix'):\n",
    "\n",
    "    accuracy = np.trace(cm) / float(np.sum(cm))\n",
    "    misclass = 1 - accuracy\n",
    "\n",
    "    cmap = plt.get_cmap('Blues')\n",
    "\n",
    "    plt.figure(figsize=(8, 6))\n",
    "    plt.imshow(cm, interpolation='nearest', cmap=cmap)\n",
    "    plt.title(title)\n",
    "    plt.colorbar()\n",
    "\n",
    "    if target_names is not None:\n",
    "        tick_marks = np.arange(len(target_names))\n",
    "        plt.xticks(tick_marks, target_names, rotation=45)\n",
    "        plt.yticks(tick_marks, target_names)\n",
    "    \n",
    "    cm_normalized = cm.astype('float') / cm.sum(axis=1)[:, np.newaxis]\n",
    "    \n",
    "    for i, j in itertools.product(range(cm.shape[0]), range(cm.shape[1])):\n",
    "        txt = plt.text(j, i, \"{:d}\\n({:0.4f})\".format(int(cm[i, j]), cm_normalized[i, j]),\n",
    "                     horizontalalignment=\"center\",\n",
    "                     color=\"white\")\n",
    "            \n",
    "        txt.set_path_effects([path_effects.Stroke(linewidth=2, foreground='black'),\n",
    "                       path_effects.Normal()])\n",
    "\n",
    "\n",
    "    plt.tight_layout()\n",
    "    plt.ylabel('True label')\n",
    "    plt.xlabel('Predicted label\\naccuracy={:0.4f}; misclass={:0.4f}'.format(accuracy, misclass))\n",
    "    plt.show()"
   ]
  },
  {
   "cell_type": "markdown",
   "metadata": {},
   "source": [
    "### Check the performance on the test set"
   ]
  },
  {
   "cell_type": "markdown",
   "metadata": {},
   "source": [
    "After improving our model with the help of the evaluation set we are now allowed to finally test our model with the testset."
   ]
  },
  {
   "cell_type": "code",
   "execution_count": 88,
   "metadata": {},
   "outputs": [
    {
     "name": "stdout",
     "output_type": "stream",
     "text": [
      "12500/12500 [==============================] - 0s 23us/sample - loss: 0.3409 - accuracy: 0.8750\n",
      "[0.34091787719726563, 0.87504]\n"
     ]
    }
   ],
   "source": [
    "results = model.evaluate(np.array(test_X), np.array(test_y))\n",
    "print(results)"
   ]
  },
  {
   "cell_type": "code",
   "execution_count": 89,
   "metadata": {},
   "outputs": [],
   "source": [
    "test_gold = np.array(test_y)\n",
    "predictions_test = np.array(model.predict(np.array(test_X)).ravel() >= 0.5, dtype=int)\n",
    "\n",
    "cm_test = np.array(tf.math.confusion_matrix(test_gold, predictions_test))"
   ]
  },
  {
   "cell_type": "code",
   "execution_count": 90,
   "metadata": {},
   "outputs": [
    {
     "data": {
      "image/png": "[encoded data removed]",
      "text/plain": [
       "<Figure size 576x432 with 2 Axes>"
      ]
     },
     "metadata": {
      "image/png": {
       "height": 448,
       "width": 499
      },
      "needs_background": "light"
     },
     "output_type": "display_data"
    }
   ],
   "source": [
    "plot_confusion_matrix(cm_test, ['neg', 'pos'], title='Confusion matrix LSTM - test')"
   ]
  }
 ],
 "metadata": {
  "kernelspec": {
   "display_name": "Python 3",
   "language": "python",
   "name": "python3"
  },
  "language_info": {
   "codemirror_mode": {
    "name": "ipython",
    "version": 3
   },
   "file_extension": ".py",
   "mimetype": "text/x-python",
   "name": "python",
   "nbconvert_exporter": "python",
   "pygments_lexer": "ipython3",
   "version": "3.7.4"
  }
 },
 "nbformat": 4,
 "nbformat_minor": 4
}
